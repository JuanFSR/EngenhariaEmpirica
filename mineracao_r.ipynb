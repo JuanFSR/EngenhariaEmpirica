{
 "cells": [
  {
   "cell_type": "code",
   "execution_count": 21,
   "metadata": {},
   "outputs": [
    {
     "name": "stderr",
     "output_type": "stream",
     "text": [
      "Matplotlib is building the font cache; this may take a moment.\n"
     ]
    },
    {
     "data": {
      "text/plain": [
       "500"
      ]
     },
     "execution_count": 21,
     "metadata": {},
     "output_type": "execute_result"
    }
   ],
   "source": [
    "import numpy as np\n",
    "import pandas as pd\n",
    "import scripts as sc\n",
    "import seaborn as sns\n",
    "import matplotlib.pyplot as plt\n",
    "\n",
    "prefix = 'r'\n",
    "\n",
    "pd.options.display.max_rows"
   ]
  },
  {
   "cell_type": "markdown",
   "metadata": {},
   "source": [
    "## Abertura dos arquivos"
   ]
  },
  {
   "cell_type": "code",
   "execution_count": 3,
   "metadata": {},
   "outputs": [
    {
     "data": {
      "text/plain": [
       "(250788, 189930, 319375)"
      ]
     },
     "execution_count": 3,
     "metadata": {},
     "output_type": "execute_result"
    }
   ],
   "source": [
    "dataAnswers = pd.read_csv('data/{}/Answers.csv'.format(prefix), encoding='latin-1')\n",
    "dataQuestions = pd.read_csv('data/{}/Questions.csv'.format(prefix), encoding='latin-1')\n",
    "dataTags = pd.read_csv('data/{}/Tags.csv'.format(prefix))\n",
    "\n",
    "len(dataAnswers), len(dataQuestions), len(dataTags)"
   ]
  },
  {
   "cell_type": "markdown",
   "metadata": {},
   "source": [
    "## Remover todos os valores nulos do conjunto de dados"
   ]
  },
  {
   "cell_type": "code",
   "execution_count": 4,
   "metadata": {},
   "outputs": [
    {
     "data": {
      "text/plain": [
       "(250000, 188729, 319212)"
      ]
     },
     "execution_count": 4,
     "metadata": {},
     "output_type": "execute_result"
    }
   ],
   "source": [
    "dataAnswers = dataAnswers.dropna()\n",
    "dataQuestions = dataQuestions.dropna()\n",
    "dataTags = dataTags.dropna()\n",
    "\n",
    "len(dataAnswers), len(dataQuestions), len(dataTags)"
   ]
  },
  {
   "cell_type": "markdown",
   "metadata": {},
   "source": [
    "## Informações sobre os conjuntos de dados"
   ]
  },
  {
   "cell_type": "code",
   "execution_count": 5,
   "metadata": {},
   "outputs": [
    {
     "name": "stdout",
     "output_type": "stream",
     "text": [
      "<class 'pandas.core.frame.DataFrame'>\n",
      "Int64Index: 250000 entries, 0 to 250787\n",
      "Data columns (total 7 columns):\n",
      " #   Column            Non-Null Count   Dtype  \n",
      "---  ------            --------------   -----  \n",
      " 0   Id                250000 non-null  int64  \n",
      " 1   OwnerUserId       250000 non-null  float64\n",
      " 2   CreationDate      250000 non-null  object \n",
      " 3   ParentId          250000 non-null  int64  \n",
      " 4   Score             250000 non-null  int64  \n",
      " 5   IsAcceptedAnswer  250000 non-null  bool   \n",
      " 6   Body              250000 non-null  object \n",
      "dtypes: bool(1), float64(1), int64(3), object(2)\n",
      "memory usage: 13.6+ MB\n",
      "<class 'pandas.core.frame.DataFrame'>\n",
      "Int64Index: 188729 entries, 0 to 189929\n",
      "Data columns (total 6 columns):\n",
      " #   Column        Non-Null Count   Dtype  \n",
      "---  ------        --------------   -----  \n",
      " 0   Id            188729 non-null  int64  \n",
      " 1   OwnerUserId   188729 non-null  float64\n",
      " 2   CreationDate  188729 non-null  object \n",
      " 3   Score         188729 non-null  int64  \n",
      " 4   Title         188729 non-null  object \n",
      " 5   Body          188729 non-null  object \n",
      "dtypes: float64(1), int64(2), object(3)\n",
      "memory usage: 10.1+ MB\n",
      "<class 'pandas.core.frame.DataFrame'>\n",
      "Int64Index: 319212 entries, 0 to 319374\n",
      "Data columns (total 2 columns):\n",
      " #   Column  Non-Null Count   Dtype \n",
      "---  ------  --------------   ----- \n",
      " 0   Id      319212 non-null  int64 \n",
      " 1   Tag     319212 non-null  object\n",
      "dtypes: int64(1), object(1)\n",
      "memory usage: 7.3+ MB\n"
     ]
    },
    {
     "data": {
      "text/plain": [
       "(None, None, None)"
      ]
     },
     "execution_count": 5,
     "metadata": {},
     "output_type": "execute_result"
    }
   ],
   "source": [
    "dataAnswers.info(), dataQuestions.info(), dataTags.info()"
   ]
  },
  {
   "cell_type": "markdown",
   "metadata": {},
   "source": [
    "## Adição das colunas: ano, mes e dia"
   ]
  },
  {
   "cell_type": "code",
   "execution_count": 6,
   "metadata": {},
   "outputs": [],
   "source": [
    "dateQuestion = sc.getDateFormat(dataQuestions['CreationDate'].values)\n",
    "dateAnswer = sc.getDateFormat(dataAnswers['CreationDate'].values)\n",
    "\n",
    "dataQuestions['ano'] = dateQuestion[0][0][0]\n",
    "dataQuestions['mes'] = dateQuestion[0][0][1]\n",
    "dataQuestions['dia'] = dateQuestion[0][0][2]\n",
    "\n",
    "dataAnswers['ano'] = dateAnswer[0][0][0]\n",
    "dataAnswers['mes'] = dateAnswer[0][0][1]\n",
    "dataAnswers['dia'] = dateAnswer[0][0][2]"
   ]
  },
  {
   "cell_type": "markdown",
   "metadata": {},
   "source": [
    "## Tamanho dos conjuntos por ano"
   ]
  },
  {
   "cell_type": "code",
   "execution_count": 7,
   "metadata": {},
   "outputs": [
    {
     "name": "stdout",
     "output_type": "stream",
     "text": [
      "\t\tQuestões:\t\tPerguntas:\n",
      "ano: 2008\ttamanho: 4\t\ttamanho: 12\n",
      "ano: 2009\ttamanho: 455\t\ttamanho: 1145\n",
      "ano: 2010\ttamanho: 2178\t\ttamanho: 4541\n",
      "ano: 2011\ttamanho: 5604\t\ttamanho: 10665\n",
      "ano: 2012\ttamanho: 11541\t\ttamanho: 18173\n",
      "ano: 2013\ttamanho: 20651\t\ttamanho: 30652\n",
      "ano: 2014\ttamanho: 29218\t\ttamanho: 40050\n",
      "ano: 2015\ttamanho: 38388\t\ttamanho: 49155\n",
      "ano: 2016\ttamanho: 42019\t\ttamanho: 51928\n"
     ]
    }
   ],
   "source": [
    "print('\\t\\tQuestões:\\t\\tPerguntas:')\n",
    "for ano in range(2008, 2016+1):\n",
    "    print('ano: {}\\ttamanho: {}\\t\\ttamanho: {}'.format(ano, len(dataQuestions.loc[(dataQuestions['ano'] == ano)]), len(dataAnswers.loc[(dataAnswers['ano'] == ano)])))"
   ]
  },
  {
   "cell_type": "markdown",
   "metadata": {},
   "source": [
    "## Total de questões para cada ano"
   ]
  },
  {
   "cell_type": "code",
   "execution_count": 8,
   "metadata": {},
   "outputs": [
    {
     "data": {
      "text/plain": [
       "2016    42019\n",
       "2017    38671\n",
       "2015    38388\n",
       "2014    29218\n",
       "2013    20651\n",
       "2012    11541\n",
       "2011     5604\n",
       "2010     2178\n",
       "2009      455\n",
       "2008        4\n",
       "Name: ano, dtype: int64"
      ]
     },
     "execution_count": 8,
     "metadata": {},
     "output_type": "execute_result"
    }
   ],
   "source": [
    "dataQuestions['ano'].value_counts()"
   ]
  },
  {
   "cell_type": "markdown",
   "metadata": {},
   "source": [
    "## Estamos considerando que um usuário não novato (usuario veterano), os usuários do ano de 2008 e 2009, já que no ano de 2008 há apenas 4 questões."
   ]
  },
  {
   "cell_type": "code",
   "execution_count": 9,
   "metadata": {},
   "outputs": [
    {
     "data": {
      "text/plain": [
       "197"
      ]
     },
     "execution_count": 9,
     "metadata": {},
     "output_type": "execute_result"
    }
   ],
   "source": [
    "veterans = dataQuestions.loc[(dataQuestions['ano'] == 2008) | (dataQuestions['ano'] == 2009), 'OwnerUserId'].unique().tolist()\n",
    "\n",
    "len(veterans)"
   ]
  },
  {
   "cell_type": "code",
   "execution_count": 10,
   "metadata": {},
   "outputs": [
    {
     "data": {
      "text/plain": [
       "188729"
      ]
     },
     "execution_count": 10,
     "metadata": {},
     "output_type": "execute_result"
    }
   ],
   "source": [
    "dropVeteran = False\n",
    "\n",
    "if dropVeteran:\n",
    "    for idVeteran in dataQuestions.loc[(dataQuestions['ano'] == 2008) | (dataQuestions['ano'] == 2009), 'OwnerUserId'].unique().tolist():\n",
    "        \n",
    "        for idx in dataQuestions.loc[dataQuestions['OwnerUserId'] == idVeteran].index:\n",
    "            dataQuestions = dataQuestions.drop(index=idx)\n",
    "\n",
    "len(dataQuestions)"
   ]
  },
  {
   "cell_type": "markdown",
   "metadata": {},
   "source": [
    "## Total de novatos nos anos"
   ]
  },
  {
   "cell_type": "code",
   "execution_count": 11,
   "metadata": {},
   "outputs": [],
   "source": [
    "dataQuestions['Body'] = dataQuestions['Body'].str.lower()"
   ]
  },
  {
   "cell_type": "code",
   "execution_count": 12,
   "metadata": {},
   "outputs": [],
   "source": [
    "data = []\n",
    "libTermsR = [\n",
    "    ['dplyr'], \n",
    "    ['ggplot2'], \n",
    "    ['data.table'],\n",
    "    ['tidyr'],\n",
    "    ['Shiny'],\n",
    "    ['knitr'],\n",
    "    ['mlr3'],\n",
    "    ['XGBoost'],\n",
    "    ['Caret'],\n",
    "    ['Esquisse'],\n",
    "    ['Brilhante'],\n",
    "    ['mlr3'],\n",
    "    ['lubridate'],\n",
    "    ['H20'],\n",
    "    ['mlr'],\n",
    "    ['Prophet'],\n",
    "    ['Plotly'],\n",
    "    ['lattice'],\n",
    "    ['jsonlite'],\n",
    "    ['slidify'],\n",
    "]\n",
    "\n",
    "for libs in libTermsR:\n",
    "    dataTopic = []\n",
    "    qtdNewComers = 0\n",
    "    qtdTotal = 0\n",
    "    \n",
    "    for lib in libs:\n",
    "        dataQuestions['lib'] = dataQuestions['Body'].map(lambda val: val.count(lib)>0)\n",
    "        \n",
    "        if len(dataTopic) > 1:\n",
    "            dataTopic.loc[dataTopic['lib'] == False, 'lib'] = dataQuestions.loc[dataQuestions['lib'] == True]\n",
    "        else:\n",
    "            dataTopic = dataQuestions.loc[dataQuestions['lib'] == True]\n",
    "\n",
    "    for ano in range(min(dataQuestions['ano'])+1, max(dataQuestions['ano'])+1):\n",
    "        dataAno = dataTopic.loc[dataTopic['ano'] == ano]\n",
    "\n",
    "        if len(dataAno) < 1:\n",
    "\n",
    "            for mes in range(1, 13):\n",
    "                data.append([prefix, libs[0], ano, mes, qtdNewComers, qtdTotal])\n",
    "        \n",
    "        else:\n",
    "\n",
    "            for mes in range(min(dataQuestions['mes']), max(dataQuestions['mes'])+1):\n",
    "                dataMes = dataAno.loc[dataAno['mes'] == mes]\n",
    "                \n",
    "                if len(dataMes) < 1:\n",
    "                    data.append([prefix, libs[0], ano, mes, qtdNewComers, qtdTotal])\n",
    "                \n",
    "                else:\n",
    "                    for question in dataMes.values:\n",
    "                        \n",
    "                        if question[1] not in veterans:\n",
    "                            qtdNewComers += 1\n",
    "                        \n",
    "                        qtdTotal += 1\n",
    "                    \n",
    "                    data.append([prefix, libs[0], ano, mes, qtdNewComers, qtdTotal])\n",
    "\n",
    "dataLanguage = pd.DataFrame(data, columns=['Language', 'Lib', 'Year', 'Month', 'NewCommers', 'Total'])"
   ]
  }
 ],
 "metadata": {
  "interpreter": {
   "hash": "a01cbe3509f40fe8fbb70f6e35a414a4aeac5b623ad71bdf179810de598dc153"
  },
  "kernelspec": {
   "display_name": "Python 3",
   "language": "python",
   "name": "python3"
  },
  "language_info": {
   "codemirror_mode": {
    "name": "ipython",
    "version": 3
   },
   "file_extension": ".py",
   "mimetype": "text/x-python",
   "name": "python",
   "nbconvert_exporter": "python",
   "pygments_lexer": "ipython3",
   "version": "3.9.2"
  }
 },
 "nbformat": 4,
 "nbformat_minor": 2
}
