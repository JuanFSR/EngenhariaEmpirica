{
 "cells": [
  {
   "cell_type": "code",
   "execution_count": 1,
   "metadata": {},
   "outputs": [],
   "source": [
    "import numpy as np\n",
    "import pandas as pd\n",
    "import scripts as sc\n",
    "import matplotlib.pyplot as plt\n",
    "from matplotlib.pyplot import figure\n",
    "\n",
    "prefix = 'r'\n",
    "\n",
    "pd.set_option('display.max_rows', 500)"
   ]
  },
  {
   "cell_type": "markdown",
   "metadata": {},
   "source": [
    "## Abertura dos arquivos"
   ]
  },
  {
   "cell_type": "code",
   "execution_count": 2,
   "metadata": {},
   "outputs": [
    {
     "data": {
      "text/plain": [
       "(250788, 189930, 319375)"
      ]
     },
     "execution_count": 2,
     "metadata": {},
     "output_type": "execute_result"
    }
   ],
   "source": [
    "dataAnswers = pd.read_csv('data/{}/Answers.csv'.format(prefix), encoding='latin-1')\n",
    "dataQuestions = pd.read_csv('data/{}/Questions.csv'.format(prefix), encoding='latin-1')\n",
    "dataTags = pd.read_csv('data/{}/Tags.csv'.format(prefix))\n",
    "\n",
    "len(dataAnswers), len(dataQuestions), len(dataTags)"
   ]
  },
  {
   "cell_type": "markdown",
   "metadata": {},
   "source": [
    "## Remover todos os valores nulos do conjunto de dados"
   ]
  },
  {
   "cell_type": "code",
   "execution_count": 3,
   "metadata": {},
   "outputs": [
    {
     "data": {
      "text/plain": [
       "(250000, 188729, 319212)"
      ]
     },
     "execution_count": 3,
     "metadata": {},
     "output_type": "execute_result"
    }
   ],
   "source": [
    "dataAnswers = dataAnswers.dropna()\n",
    "dataQuestions = dataQuestions.dropna()\n",
    "dataTags = dataTags.dropna()\n",
    "\n",
    "len(dataAnswers), len(dataQuestions), len(dataTags)"
   ]
  },
  {
   "cell_type": "markdown",
   "metadata": {},
   "source": [
    "## Informações sobre os conjuntos de dados"
   ]
  },
  {
   "cell_type": "code",
   "execution_count": 4,
   "metadata": {},
   "outputs": [
    {
     "name": "stdout",
     "output_type": "stream",
     "text": [
      "<class 'pandas.core.frame.DataFrame'>\n",
      "Int64Index: 250000 entries, 0 to 250787\n",
      "Data columns (total 7 columns):\n",
      " #   Column            Non-Null Count   Dtype  \n",
      "---  ------            --------------   -----  \n",
      " 0   Id                250000 non-null  int64  \n",
      " 1   OwnerUserId       250000 non-null  float64\n",
      " 2   CreationDate      250000 non-null  object \n",
      " 3   ParentId          250000 non-null  int64  \n",
      " 4   Score             250000 non-null  int64  \n",
      " 5   IsAcceptedAnswer  250000 non-null  bool   \n",
      " 6   Body              250000 non-null  object \n",
      "dtypes: bool(1), float64(1), int64(3), object(2)\n",
      "memory usage: 13.6+ MB\n",
      "<class 'pandas.core.frame.DataFrame'>\n",
      "Int64Index: 188729 entries, 0 to 189929\n",
      "Data columns (total 6 columns):\n",
      " #   Column        Non-Null Count   Dtype  \n",
      "---  ------        --------------   -----  \n",
      " 0   Id            188729 non-null  int64  \n",
      " 1   OwnerUserId   188729 non-null  float64\n",
      " 2   CreationDate  188729 non-null  object \n",
      " 3   Score         188729 non-null  int64  \n",
      " 4   Title         188729 non-null  object \n",
      " 5   Body          188729 non-null  object \n",
      "dtypes: float64(1), int64(2), object(3)\n",
      "memory usage: 10.1+ MB\n",
      "<class 'pandas.core.frame.DataFrame'>\n",
      "Int64Index: 319212 entries, 0 to 319374\n",
      "Data columns (total 2 columns):\n",
      " #   Column  Non-Null Count   Dtype \n",
      "---  ------  --------------   ----- \n",
      " 0   Id      319212 non-null  int64 \n",
      " 1   Tag     319212 non-null  object\n",
      "dtypes: int64(1), object(1)\n",
      "memory usage: 7.3+ MB\n"
     ]
    },
    {
     "data": {
      "text/plain": [
       "(None, None, None)"
      ]
     },
     "execution_count": 4,
     "metadata": {},
     "output_type": "execute_result"
    }
   ],
   "source": [
    "dataAnswers.info(), dataQuestions.info(), dataTags.info()"
   ]
  },
  {
   "cell_type": "markdown",
   "metadata": {},
   "source": [
    "## Adição das colunas: ano, mes e dia"
   ]
  },
  {
   "cell_type": "code",
   "execution_count": 5,
   "metadata": {},
   "outputs": [],
   "source": [
    "dateQuestion = sc.getDateFormat(dataQuestions['CreationDate'].values)\n",
    "dateAnswer = sc.getDateFormat(dataAnswers['CreationDate'].values)\n",
    "\n",
    "dataQuestions['ano'] = dateQuestion[0][0][0]\n",
    "dataQuestions['mes'] = dateQuestion[0][0][1]\n",
    "dataQuestions['dia'] = dateQuestion[0][0][2]\n",
    "\n",
    "dataAnswers['ano'] = dateAnswer[0][0][0]\n",
    "dataAnswers['mes'] = dateAnswer[0][0][1]\n",
    "dataAnswers['dia'] = dateAnswer[0][0][2]"
   ]
  },
  {
   "cell_type": "markdown",
   "metadata": {},
   "source": [
    "## Tamanho dos conjuntos por ano"
   ]
  },
  {
   "cell_type": "code",
   "execution_count": 6,
   "metadata": {},
   "outputs": [
    {
     "name": "stdout",
     "output_type": "stream",
     "text": [
      "\t\tQuestões:\t\tPerguntas:\n",
      "ano: 2008\ttamanho: 4\t\ttamanho: 12\n",
      "ano: 2009\ttamanho: 455\t\ttamanho: 1145\n",
      "ano: 2010\ttamanho: 2178\t\ttamanho: 4541\n",
      "ano: 2011\ttamanho: 5604\t\ttamanho: 10665\n",
      "ano: 2012\ttamanho: 11541\t\ttamanho: 18173\n",
      "ano: 2013\ttamanho: 20651\t\ttamanho: 30652\n",
      "ano: 2014\ttamanho: 29218\t\ttamanho: 40050\n",
      "ano: 2015\ttamanho: 38388\t\ttamanho: 49155\n",
      "ano: 2016\ttamanho: 42019\t\ttamanho: 51928\n"
     ]
    }
   ],
   "source": [
    "print('\\t\\tQuestões:\\t\\tPerguntas:')\n",
    "for ano in range(2008, 2016+1):\n",
    "    print('ano: {}\\ttamanho: {}\\t\\ttamanho: {}'.format(ano, len(dataQuestions.loc[(dataQuestions['ano'] == ano)]), len(dataAnswers.loc[(dataAnswers['ano'] == ano)])))"
   ]
  },
  {
   "cell_type": "markdown",
   "metadata": {},
   "source": [
    "## Total de questões para cada ano"
   ]
  },
  {
   "cell_type": "code",
   "execution_count": 7,
   "metadata": {},
   "outputs": [
    {
     "data": {
      "text/plain": [
       "2016    42019\n",
       "2017    38671\n",
       "2015    38388\n",
       "2014    29218\n",
       "2013    20651\n",
       "2012    11541\n",
       "2011     5604\n",
       "2010     2178\n",
       "2009      455\n",
       "2008        4\n",
       "Name: ano, dtype: int64"
      ]
     },
     "execution_count": 7,
     "metadata": {},
     "output_type": "execute_result"
    }
   ],
   "source": [
    "dataQuestions['ano'].value_counts()"
   ]
  },
  {
   "cell_type": "markdown",
   "metadata": {},
   "source": [
    "## Estamos considerando que um usuário não novato (usuario veterano), os usuários do ano de 2008 e 2009, já que no ano de 2008 há apenas 4 questões."
   ]
  },
  {
   "cell_type": "code",
   "execution_count": 8,
   "metadata": {},
   "outputs": [
    {
     "data": {
      "text/plain": [
       "847"
      ]
     },
     "execution_count": 8,
     "metadata": {},
     "output_type": "execute_result"
    }
   ],
   "source": [
    "veterans = dataQuestions.loc[(dataQuestions['ano'] == 2008) | (dataQuestions['ano'] == 2009) | (dataQuestions['ano'] == 2010), 'OwnerUserId'].unique().tolist()\n",
    "\n",
    "len(veterans)"
   ]
  },
  {
   "cell_type": "markdown",
   "metadata": {},
   "source": [
    "## Total de novatos nos anos"
   ]
  },
  {
   "cell_type": "code",
   "execution_count": 9,
   "metadata": {},
   "outputs": [],
   "source": [
    "dataQuestions['Body'] = dataQuestions['Body'].str.lower()"
   ]
  },
  {
   "cell_type": "code",
   "execution_count": 43,
   "metadata": {},
   "outputs": [],
   "source": [
    "data = []\n",
    "repeatNewer = []\n",
    "libTerms = [\n",
    "    ['dplyr'], \n",
    "    ['ggplot2'], \n",
    "    ['data.table'],\n",
    "    ['tidyr'],\n",
    "    ['knitr'],\n",
    "    ['dt'],\n",
    "    ['lubridate'],\n",
    "    ['mlr'],\n",
    "    ['lattice'],\n",
    "    ['jsonlite'],\n",
    "    ['slidify'],\n",
    "    ['swirl'],\n",
    "    ['CircStats'],\n",
    "    ['DBI'],\n",
    "    ['odbc'],\n",
    "    ['RMySQL'],\n",
    "    ['RSQLite'],\n",
    "    ['RPostgresSQL'],\n",
    "    ['XLConnect'],\n",
    "    ['xlsx'],\n",
    "    ['foreign'],\n",
    "    ['haven']\n",
    "]\n",
    "\n",
    "for libs in libTerms:\n",
    "    dataTopic = []\n",
    "    newers = {}\n",
    "    \n",
    "    for lib in libs:\n",
    "        dataQuestions['lib'] = dataQuestions['Body'].map(lambda val: val.count(lib)>0)\n",
    "        \n",
    "        if len(dataTopic) > 1:\n",
    "            dataTopic.loc[dataTopic['lib'] == False, 'lib'] = dataQuestions.loc[dataQuestions['lib'] == True]\n",
    "        else:\n",
    "            dataTopic = dataQuestions.loc[dataQuestions['lib'] == True]\n",
    "\n",
    "    for ano in range(min(dataQuestions['ano'])+1, max(dataQuestions['ano'])+1):\n",
    "        dataAno = dataTopic.loc[dataTopic['ano'] == ano]\n",
    "\n",
    "        if len(dataAno) < 1:\n",
    "\n",
    "            for mes in range(1, 13):\n",
    "                data.append([prefix, libs[0], ano, mes, 0])\n",
    "        \n",
    "        else:\n",
    "\n",
    "            for mes in range(min(dataQuestions['mes']), max(dataQuestions['mes'])+1):\n",
    "                dataMes = dataAno.loc[dataAno['mes'] == mes]\n",
    "                qtdNewComers = 0\n",
    "\n",
    "                if len(dataMes) < 1:\n",
    "                    data.append([prefix, libs[0], ano, mes, qtdNewComers])\n",
    "                \n",
    "                else:\n",
    "                    for question in dataMes.values:\n",
    "                        \n",
    "                        if question[1] not in veterans:\n",
    "                            qtdNewComers += 1\n",
    "\n",
    "                            if question[1] not in newers:\n",
    "                                newers[question[1]] = 1\n",
    "                            else:\n",
    "                                newers[question[1]] += 1\n",
    "                        \n",
    "                    data.append([prefix, libs[0], ano, mes, qtdNewComers])\n",
    "\n",
    "    for newer in newers:\n",
    "        repeatNewer.append([prefix, libs[0], newer, newers[newer]])\n",
    "\n",
    "dataLanguage = pd.DataFrame(data, columns=['Language', 'Lib', 'Year', 'Month', 'NewCommers'])\n",
    "dataNewerRepeat = pd.DataFrame(repeatNewer, columns=['Language', 'Lib', 'Newer', 'Repeat'])"
   ]
  },
  {
   "cell_type": "code",
   "execution_count": 47,
   "metadata": {},
   "outputs": [
    {
     "name": "stdout",
     "output_type": "stream",
     "text": [
      "Lib dplyr\n",
      "Lib ggplot2\n",
      "Lib data.table\n",
      "Lib tidyr\n",
      "Lib knitr\n",
      "Lib dt\n",
      "Lib lubridate\n",
      "Lib mlr\n",
      "Lib lattice\n",
      "Lib jsonlite\n",
      "Lib slidify\n",
      "Lib swirl\n",
      "Lib CircStats\n",
      "Qtd menor que 0\n",
      "Lib DBI\n",
      "Qtd menor que 0\n",
      "Lib odbc\n",
      "Lib RMySQL\n",
      "Qtd menor que 0\n",
      "Lib RSQLite\n",
      "Qtd menor que 0\n",
      "Lib RPostgresSQL\n",
      "Qtd menor que 0\n",
      "Lib XLConnect\n",
      "Qtd menor que 0\n",
      "Lib xlsx\n",
      "Lib foreign\n",
      "Lib haven\n"
     ]
    }
   ],
   "source": [
    "resultRepeat = []\n",
    "resultNewers = []\n",
    "labelRepeat = []\n",
    "\n",
    "for term in libTerms:\n",
    "    print('Lib', term[0])\n",
    "    qtdTotal = dataLanguage.loc[dataLanguage['Lib'] == term[0], 'NewCommers'].sum()\n",
    "\n",
    "    if qtdTotal >= 1:\n",
    "        # print('\\tQtd total de novatos: ', qtdTotal)\n",
    "        # print('\\tQtd max de novatos em um mês: ', max(dataLanguage.loc[dataLanguage['Lib'] == term[0], 'NewCommers']))\n",
    "        # print('\\tMaior qtd de perguntas feitas por um novato: ', max(dataNewerRepeat.loc[dataNewerRepeat['Lib'] == term[0], 'Repeat']), '\\n')\n",
    "    \n",
    "        resultRepeat.append(max(dataNewerRepeat.loc[dataNewerRepeat['Lib'] == term[0], 'Repeat']))\n",
    "        resultNewers.append(dataLanguage.loc[dataLanguage['Lib'] == term[0], 'NewCommers'].sum())\n",
    "        labelRepeat.append(term[0])\n",
    "    else:\n",
    "        print('Qtd menor que 0')"
   ]
  },
  {
   "cell_type": "code",
   "execution_count": 49,
   "metadata": {},
   "outputs": [
    {
     "data": {
      "text/html": [
       "<div>\n",
       "<style scoped>\n",
       "    .dataframe tbody tr th:only-of-type {\n",
       "        vertical-align: middle;\n",
       "    }\n",
       "\n",
       "    .dataframe tbody tr th {\n",
       "        vertical-align: top;\n",
       "    }\n",
       "\n",
       "    .dataframe thead th {\n",
       "        text-align: right;\n",
       "    }\n",
       "</style>\n",
       "<table border=\"1\" class=\"dataframe\">\n",
       "  <thead>\n",
       "    <tr style=\"text-align: right;\">\n",
       "      <th></th>\n",
       "      <th>lib</th>\n",
       "      <th>qtd_max_ptgn</th>\n",
       "      <th>qtd_max_newers</th>\n",
       "    </tr>\n",
       "  </thead>\n",
       "  <tbody>\n",
       "    <tr>\n",
       "      <th>0</th>\n",
       "      <td>dplyr</td>\n",
       "      <td>46</td>\n",
       "      <td>7323</td>\n",
       "    </tr>\n",
       "    <tr>\n",
       "      <th>1</th>\n",
       "      <td>ggplot2</td>\n",
       "      <td>72</td>\n",
       "      <td>12153</td>\n",
       "    </tr>\n",
       "    <tr>\n",
       "      <th>2</th>\n",
       "      <td>data.table</td>\n",
       "      <td>61</td>\n",
       "      <td>7339</td>\n",
       "    </tr>\n",
       "    <tr>\n",
       "      <th>3</th>\n",
       "      <td>tidyr</td>\n",
       "      <td>21</td>\n",
       "      <td>1070</td>\n",
       "    </tr>\n",
       "    <tr>\n",
       "      <th>4</th>\n",
       "      <td>knitr</td>\n",
       "      <td>32</td>\n",
       "      <td>2592</td>\n",
       "    </tr>\n",
       "    <tr>\n",
       "      <th>5</th>\n",
       "      <td>dt</td>\n",
       "      <td>65</td>\n",
       "      <td>18196</td>\n",
       "    </tr>\n",
       "    <tr>\n",
       "      <th>6</th>\n",
       "      <td>lubridate</td>\n",
       "      <td>13</td>\n",
       "      <td>1212</td>\n",
       "    </tr>\n",
       "    <tr>\n",
       "      <th>7</th>\n",
       "      <td>mlr</td>\n",
       "      <td>10</td>\n",
       "      <td>337</td>\n",
       "    </tr>\n",
       "    <tr>\n",
       "      <th>8</th>\n",
       "      <td>lattice</td>\n",
       "      <td>16</td>\n",
       "      <td>1827</td>\n",
       "    </tr>\n",
       "    <tr>\n",
       "      <th>9</th>\n",
       "      <td>jsonlite</td>\n",
       "      <td>8</td>\n",
       "      <td>765</td>\n",
       "    </tr>\n",
       "    <tr>\n",
       "      <th>10</th>\n",
       "      <td>slidify</td>\n",
       "      <td>2</td>\n",
       "      <td>101</td>\n",
       "    </tr>\n",
       "    <tr>\n",
       "      <th>11</th>\n",
       "      <td>swirl</td>\n",
       "      <td>2</td>\n",
       "      <td>57</td>\n",
       "    </tr>\n",
       "    <tr>\n",
       "      <th>12</th>\n",
       "      <td>odbc</td>\n",
       "      <td>12</td>\n",
       "      <td>996</td>\n",
       "    </tr>\n",
       "    <tr>\n",
       "      <th>13</th>\n",
       "      <td>xlsx</td>\n",
       "      <td>10</td>\n",
       "      <td>1247</td>\n",
       "    </tr>\n",
       "    <tr>\n",
       "      <th>14</th>\n",
       "      <td>foreign</td>\n",
       "      <td>5</td>\n",
       "      <td>691</td>\n",
       "    </tr>\n",
       "    <tr>\n",
       "      <th>15</th>\n",
       "      <td>haven</td>\n",
       "      <td>13</td>\n",
       "      <td>3029</td>\n",
       "    </tr>\n",
       "  </tbody>\n",
       "</table>\n",
       "</div>"
      ],
      "text/plain": [
       "           lib  qtd_max_ptgn  qtd_max_newers\n",
       "0        dplyr            46            7323\n",
       "1      ggplot2            72           12153\n",
       "2   data.table            61            7339\n",
       "3        tidyr            21            1070\n",
       "4        knitr            32            2592\n",
       "5           dt            65           18196\n",
       "6    lubridate            13            1212\n",
       "7          mlr            10             337\n",
       "8      lattice            16            1827\n",
       "9     jsonlite             8             765\n",
       "10     slidify             2             101\n",
       "11       swirl             2              57\n",
       "12        odbc            12             996\n",
       "13        xlsx            10            1247\n",
       "14     foreign             5             691\n",
       "15       haven            13            3029"
      ]
     },
     "execution_count": 49,
     "metadata": {},
     "output_type": "execute_result"
    }
   ],
   "source": [
    "a = []\n",
    "for idx in range(len(labelRepeat)):\n",
    "    a.append([labelRepeat[idx], resultRepeat[idx], resultNewers[idx]])\n",
    "\n",
    "dataResult = pd.DataFrame(a, columns=['lib', 'qtd_max_ptgn', 'qtd_max_newers'])\n",
    "\n",
    "dataResult"
   ]
  },
  {
   "cell_type": "code",
   "execution_count": 51,
   "metadata": {},
   "outputs": [
    {
     "data": {
      "image/png": "[encoded data removed]",
      "text/plain": [
       "<Figure size 1008x432 with 1 Axes>"
      ]
     },
     "metadata": {
      "needs_background": "light"
     },
     "output_type": "display_data"
    }
   ],
   "source": [
    "dataResult = dataResult.sort_values(by=['qtd_max_ptgn'])\n",
    "\n",
    "fig, ax = plt.subplots()\n",
    "\n",
    "fig.set_size_inches(14, 6)\n",
    "fig.savefig('./result/{}/1. qtd_max.png'.format(prefix), dpi=100)\n",
    "\n",
    "y_pos = np.arange(len(labelRepeat))\n",
    "\n",
    "ax.barh(y_pos, dataResult['qtd_max_ptgn'].values.tolist(), align='center')\n",
    "ax.set_yticks(y_pos, labels=dataResult['lib'].values.tolist())\n",
    "ax.invert_yaxis()\n",
    "ax.set_title('Quantidade máxima de perguntas de um novato para as libs')\n",
    "ax.set_xlabel('Quantidade máxima de perguntas')\n",
    "\n",
    "plt.show()"
   ]
  },
  {
   "cell_type": "code",
   "execution_count": 52,
   "metadata": {},
   "outputs": [
    {
     "data": {
      "image/png": "[encoded data removed]",
      "text/plain": [
       "<Figure size 1008x432 with 1 Axes>"
      ]
     },
     "metadata": {
      "needs_background": "light"
     },
     "output_type": "display_data"
    }
   ],
   "source": [
    "dataResult = dataResult.sort_values(by=['qtd_max_newers'])\n",
    "\n",
    "fig, ax = plt.subplots()\n",
    "\n",
    "fig.set_size_inches(14, 6)\n",
    "fig.savefig('./result/{}/2. qtd_total.png'.format(prefix), dpi=100)\n",
    "\n",
    "y_pos = np.arange(len(labelRepeat))\n",
    "\n",
    "ax.barh(y_pos, dataResult['qtd_max_newers'].values.tolist(), align='center')\n",
    "ax.set_yticks(y_pos, labels=dataResult['lib'].values.tolist())\n",
    "ax.invert_yaxis()\n",
    "ax.set_title('Quantidade total de novatos de um novato para as libs')\n",
    "ax.set_xlabel('Quantidade total de novatos')\n",
    "\n",
    "plt.show()"
   ]
  }
 ],
 "metadata": {
  "interpreter": {
   "hash": "a01cbe3509f40fe8fbb70f6e35a414a4aeac5b623ad71bdf179810de598dc153"
  },
  "kernelspec": {
   "display_name": "Python 3",
   "language": "python",
   "name": "python3"
  },
  "language_info": {
   "codemirror_mode": {
    "name": "ipython",
    "version": 3
   },
   "file_extension": ".py",
   "mimetype": "text/x-python",
   "name": "python",
   "nbconvert_exporter": "python",
   "pygments_lexer": "ipython3",
   "version": "3.9.2"
  }
 },
 "nbformat": 4,
 "nbformat_minor": 2
}
