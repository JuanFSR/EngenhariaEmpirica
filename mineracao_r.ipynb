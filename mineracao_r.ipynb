{
 "cells": [
  {
   "cell_type": "code",
   "execution_count": 1,
   "metadata": {},
   "outputs": [],
   "source": [
    "import numpy as np\n",
    "import pandas as pd\n",
    "import scripts as sc\n",
    "import matplotlib.pyplot as plt\n",
    "from matplotlib.pyplot import figure\n",
    "\n",
    "prefix = 'r'\n",
    "\n",
    "pd.set_option('display.max_rows', 500)"
   ]
  },
  {
   "cell_type": "markdown",
   "metadata": {},
   "source": [
    "## Abertura dos arquivos"
   ]
  },
  {
   "cell_type": "code",
   "execution_count": 2,
   "metadata": {},
   "outputs": [
    {
     "data": {
      "text/plain": [
       "(250788, 189930, 319375)"
      ]
     },
     "execution_count": 2,
     "metadata": {},
     "output_type": "execute_result"
    }
   ],
   "source": [
    "dataAnswers = pd.read_csv('data/{}/Answers.csv'.format(prefix), encoding='latin-1')\n",
    "dataQuestions = pd.read_csv('data/{}/Questions.csv'.format(prefix), encoding='latin-1')\n",
    "dataTags = pd.read_csv('data/{}/Tags.csv'.format(prefix))\n",
    "\n",
    "len(dataAnswers), len(dataQuestions), len(dataTags)"
   ]
  },
  {
   "cell_type": "markdown",
   "metadata": {},
   "source": [
    "## Remover todos os valores nulos do conjunto de dados"
   ]
  },
  {
   "cell_type": "code",
   "execution_count": 3,
   "metadata": {},
   "outputs": [
    {
     "data": {
      "text/plain": [
       "(250000, 188729, 319212)"
      ]
     },
     "execution_count": 3,
     "metadata": {},
     "output_type": "execute_result"
    }
   ],
   "source": [
    "dataAnswers = dataAnswers.dropna()\n",
    "dataQuestions = dataQuestions.dropna()\n",
    "dataTags = dataTags.dropna()\n",
    "\n",
    "len(dataAnswers), len(dataQuestions), len(dataTags)"
   ]
  },
  {
   "cell_type": "markdown",
   "metadata": {},
   "source": [
    "## Informações sobre os conjuntos de dados"
   ]
  },
  {
   "cell_type": "code",
   "execution_count": 4,
   "metadata": {},
   "outputs": [
    {
     "name": "stdout",
     "output_type": "stream",
     "text": [
      "<class 'pandas.core.frame.DataFrame'>\n",
      "Int64Index: 250000 entries, 0 to 250787\n",
      "Data columns (total 7 columns):\n",
      " #   Column            Non-Null Count   Dtype  \n",
      "---  ------            --------------   -----  \n",
      " 0   Id                250000 non-null  int64  \n",
      " 1   OwnerUserId       250000 non-null  float64\n",
      " 2   CreationDate      250000 non-null  object \n",
      " 3   ParentId          250000 non-null  int64  \n",
      " 4   Score             250000 non-null  int64  \n",
      " 5   IsAcceptedAnswer  250000 non-null  bool   \n",
      " 6   Body              250000 non-null  object \n",
      "dtypes: bool(1), float64(1), int64(3), object(2)\n",
      "memory usage: 13.6+ MB\n",
      "<class 'pandas.core.frame.DataFrame'>\n",
      "Int64Index: 188729 entries, 0 to 189929\n",
      "Data columns (total 6 columns):\n",
      " #   Column        Non-Null Count   Dtype  \n",
      "---  ------        --------------   -----  \n",
      " 0   Id            188729 non-null  int64  \n",
      " 1   OwnerUserId   188729 non-null  float64\n",
      " 2   CreationDate  188729 non-null  object \n",
      " 3   Score         188729 non-null  int64  \n",
      " 4   Title         188729 non-null  object \n",
      " 5   Body          188729 non-null  object \n",
      "dtypes: float64(1), int64(2), object(3)\n",
      "memory usage: 10.1+ MB\n",
      "<class 'pandas.core.frame.DataFrame'>\n",
      "Int64Index: 319212 entries, 0 to 319374\n",
      "Data columns (total 2 columns):\n",
      " #   Column  Non-Null Count   Dtype \n",
      "---  ------  --------------   ----- \n",
      " 0   Id      319212 non-null  int64 \n",
      " 1   Tag     319212 non-null  object\n",
      "dtypes: int64(1), object(1)\n",
      "memory usage: 7.3+ MB\n"
     ]
    },
    {
     "data": {
      "text/plain": [
       "(None, None, None)"
      ]
     },
     "execution_count": 4,
     "metadata": {},
     "output_type": "execute_result"
    }
   ],
   "source": [
    "dataAnswers.info(), dataQuestions.info(), dataTags.info()"
   ]
  },
  {
   "cell_type": "markdown",
   "metadata": {},
   "source": [
    "## Adição das colunas: ano, mes e dia"
   ]
  },
  {
   "cell_type": "code",
   "execution_count": 5,
   "metadata": {},
   "outputs": [],
   "source": [
    "dateQuestion = sc.getDateFormat(dataQuestions['CreationDate'].values)\n",
    "dateAnswer = sc.getDateFormat(dataAnswers['CreationDate'].values)\n",
    "\n",
    "dataQuestions['ano'] = dateQuestion[0][0][0]\n",
    "dataQuestions['mes'] = dateQuestion[0][0][1]\n",
    "dataQuestions['dia'] = dateQuestion[0][0][2]\n",
    "\n",
    "dataAnswers['ano'] = dateAnswer[0][0][0]\n",
    "dataAnswers['mes'] = dateAnswer[0][0][1]\n",
    "dataAnswers['dia'] = dateAnswer[0][0][2]"
   ]
  },
  {
   "cell_type": "markdown",
   "metadata": {},
   "source": [
    "## Tamanho dos conjuntos por ano"
   ]
  },
  {
   "cell_type": "code",
   "execution_count": 6,
   "metadata": {},
   "outputs": [
    {
     "name": "stdout",
     "output_type": "stream",
     "text": [
      "\t\tQuestões:\t\tPerguntas:\n",
      "ano: 2008\ttamanho: 4\t\ttamanho: 12\n",
      "ano: 2009\ttamanho: 455\t\ttamanho: 1145\n",
      "ano: 2010\ttamanho: 2178\t\ttamanho: 4541\n",
      "ano: 2011\ttamanho: 5604\t\ttamanho: 10665\n",
      "ano: 2012\ttamanho: 11541\t\ttamanho: 18173\n",
      "ano: 2013\ttamanho: 20651\t\ttamanho: 30652\n",
      "ano: 2014\ttamanho: 29218\t\ttamanho: 40050\n",
      "ano: 2015\ttamanho: 38388\t\ttamanho: 49155\n",
      "ano: 2016\ttamanho: 42019\t\ttamanho: 51928\n"
     ]
    }
   ],
   "source": [
    "print('\\t\\tQuestões:\\t\\tPerguntas:')\n",
    "for ano in range(2008, 2016+1):\n",
    "    print('ano: {}\\ttamanho: {}\\t\\ttamanho: {}'.format(ano, len(dataQuestions.loc[(dataQuestions['ano'] == ano)]), len(dataAnswers.loc[(dataAnswers['ano'] == ano)])))"
   ]
  },
  {
   "cell_type": "markdown",
   "metadata": {},
   "source": [
    "## Total de questões para cada ano"
   ]
  },
  {
   "cell_type": "code",
   "execution_count": 7,
   "metadata": {},
   "outputs": [
    {
     "data": {
      "text/plain": [
       "2016    42019\n",
       "2017    38671\n",
       "2015    38388\n",
       "2014    29218\n",
       "2013    20651\n",
       "2012    11541\n",
       "2011     5604\n",
       "2010     2178\n",
       "2009      455\n",
       "2008        4\n",
       "Name: ano, dtype: int64"
      ]
     },
     "execution_count": 7,
     "metadata": {},
     "output_type": "execute_result"
    }
   ],
   "source": [
    "dataQuestions['ano'].value_counts()"
   ]
  },
  {
   "cell_type": "markdown",
   "metadata": {},
   "source": [
    "## Estamos considerando que um usuário não novato (usuario veterano), os usuários do ano de 2008 e 2009, já que no ano de 2008 há apenas 4 questões."
   ]
  },
  {
   "cell_type": "code",
   "execution_count": 8,
   "metadata": {},
   "outputs": [
    {
     "data": {
      "text/plain": [
       "847"
      ]
     },
     "execution_count": 8,
     "metadata": {},
     "output_type": "execute_result"
    }
   ],
   "source": [
    "veterans = dataQuestions.loc[(dataQuestions['ano'] == 2008) | (dataQuestions['ano'] == 2009) | (dataQuestions['ano'] == 2010), 'OwnerUserId'].unique().tolist()\n",
    "\n",
    "len(veterans)"
   ]
  },
  {
   "cell_type": "markdown",
   "metadata": {},
   "source": [
    "## Total de novatos nos anos"
   ]
  },
  {
   "cell_type": "code",
   "execution_count": 9,
   "metadata": {},
   "outputs": [],
   "source": [
    "dataQuestions['Body'] = dataQuestions['Body'].str.lower()"
   ]
  },
  {
   "cell_type": "code",
   "execution_count": 24,
   "metadata": {},
   "outputs": [],
   "source": [
    "data = []\n",
    "repeatNewer = []\n",
    "libTerms = [\n",
    "    ['dplyr'], \n",
    "    ['ggplot2'], \n",
    "    ['data.table'],\n",
    "    ['tidyr'],\n",
    "    ['knitr'],\n",
    "    ['Caret'],\n",
    "    ['Esquisse'],\n",
    "    ['Brilhante'],\n",
    "    ['lubridate'],\n",
    "    ['H20'],\n",
    "    ['mlr'],\n",
    "    ['Prophet'],\n",
    "    ['Plotly'],\n",
    "    ['lattice'],\n",
    "    ['jsonlite'],\n",
    "    ['slidify'],\n",
    "]\n",
    "\n",
    "for libs in libTerms:\n",
    "    dataTopic = []\n",
    "    newers = {}\n",
    "    \n",
    "    for lib in libs:\n",
    "        dataQuestions['lib'] = dataQuestions['Body'].map(lambda val: val.count(lib)>0)\n",
    "        \n",
    "        if len(dataTopic) > 1:\n",
    "            dataTopic.loc[dataTopic['lib'] == False, 'lib'] = dataQuestions.loc[dataQuestions['lib'] == True]\n",
    "        else:\n",
    "            dataTopic = dataQuestions.loc[dataQuestions['lib'] == True]\n",
    "\n",
    "    for ano in range(min(dataQuestions['ano'])+1, max(dataQuestions['ano'])+1):\n",
    "        dataAno = dataTopic.loc[dataTopic['ano'] == ano]\n",
    "\n",
    "        if len(dataAno) < 1:\n",
    "\n",
    "            for mes in range(1, 13):\n",
    "                data.append([prefix, libs[0], ano, mes, 0])\n",
    "        \n",
    "        else:\n",
    "\n",
    "            for mes in range(min(dataQuestions['mes']), max(dataQuestions['mes'])+1):\n",
    "                dataMes = dataAno.loc[dataAno['mes'] == mes]\n",
    "                qtdNewComers = 0\n",
    "\n",
    "                if len(dataMes) < 1:\n",
    "                    data.append([prefix, libs[0], ano, mes, qtdNewComers])\n",
    "                \n",
    "                else:\n",
    "                    for question in dataMes.values:\n",
    "                        \n",
    "                        if question[1] not in veterans:\n",
    "                            qtdNewComers += 1\n",
    "\n",
    "                            if question[1] not in newers:\n",
    "                                newers[question[1]] = 1\n",
    "                            else:\n",
    "                                newers[question[1]] += 1\n",
    "                        \n",
    "                    data.append([prefix, libs[0], ano, mes, qtdNewComers])\n",
    "\n",
    "    for newer in newers:\n",
    "        repeatNewer.append([prefix, libs[0], newer, newers[newer]])\n",
    "\n",
    "dataLanguage = pd.DataFrame(data, columns=['Language', 'Lib', 'Year', 'Month', 'NewCommers'])\n",
    "dataNewerRepeat = pd.DataFrame(repeatNewer, columns=['Language', 'Lib', 'Newer', 'Repeat'])"
   ]
  },
  {
   "cell_type": "code",
   "execution_count": 23,
   "metadata": {},
   "outputs": [
    {
     "name": "stdout",
     "output_type": "stream",
     "text": [
      "Lib dplyr\n",
      "\tQtd total de novatos:  7323\n",
      "\tQtd max de novatos em um mês:  366\n",
      "\tMaior qtd de perguntas feitas por um novato:  46 \n",
      "\n",
      "Lib ggplot2\n",
      "\tQtd total de novatos:  12153\n",
      "\tQtd max de novatos em um mês:  338\n",
      "\tMaior qtd de perguntas feitas por um novato:  72 \n",
      "\n",
      "Lib data.table\n",
      "\tQtd total de novatos:  7339\n",
      "\tQtd max de novatos em um mês:  223\n",
      "\tMaior qtd de perguntas feitas por um novato:  61 \n",
      "\n",
      "Lib tidyr\n",
      "\tQtd total de novatos:  1070\n",
      "\tQtd max de novatos em um mês:  61\n",
      "\tMaior qtd de perguntas feitas por um novato:  21 \n",
      "\n",
      "Lib knitr\n",
      "\tQtd total de novatos:  2592\n",
      "\tQtd max de novatos em um mês:  77\n",
      "\tMaior qtd de perguntas feitas por um novato:  32 \n",
      "\n",
      "Lib XGBoost\n",
      "\tQtd total de novatos:  0\n",
      "\tQtd max de novatos em um mês:  0\n"
     ]
    },
    {
     "ename": "ValueError",
     "evalue": "max() arg is an empty sequence",
     "output_type": "error",
     "traceback": [
      "\u001b[0;31m---------------------------------------------------------------------------\u001b[0m",
      "\u001b[0;31mValueError\u001b[0m                                Traceback (most recent call last)",
      "\u001b[0;32m<ipython-input-23-5aa40e9fa340>\u001b[0m in \u001b[0;36m<module>\u001b[0;34m\u001b[0m\n\u001b[1;32m      7\u001b[0m     \u001b[0mprint\u001b[0m\u001b[0;34m(\u001b[0m\u001b[0;34m'\\tQtd total de novatos: '\u001b[0m\u001b[0;34m,\u001b[0m \u001b[0mdataLanguage\u001b[0m\u001b[0;34m.\u001b[0m\u001b[0mloc\u001b[0m\u001b[0;34m[\u001b[0m\u001b[0mdataLanguage\u001b[0m\u001b[0;34m[\u001b[0m\u001b[0;34m'Lib'\u001b[0m\u001b[0;34m]\u001b[0m \u001b[0;34m==\u001b[0m \u001b[0mterm\u001b[0m\u001b[0;34m[\u001b[0m\u001b[0;36m0\u001b[0m\u001b[0;34m]\u001b[0m\u001b[0;34m,\u001b[0m \u001b[0;34m'NewCommers'\u001b[0m\u001b[0;34m]\u001b[0m\u001b[0;34m.\u001b[0m\u001b[0msum\u001b[0m\u001b[0;34m(\u001b[0m\u001b[0;34m)\u001b[0m\u001b[0;34m)\u001b[0m\u001b[0;34m\u001b[0m\u001b[0;34m\u001b[0m\u001b[0m\n\u001b[1;32m      8\u001b[0m     \u001b[0mprint\u001b[0m\u001b[0;34m(\u001b[0m\u001b[0;34m'\\tQtd max de novatos em um mês: '\u001b[0m\u001b[0;34m,\u001b[0m \u001b[0mmax\u001b[0m\u001b[0;34m(\u001b[0m\u001b[0mdataLanguage\u001b[0m\u001b[0;34m.\u001b[0m\u001b[0mloc\u001b[0m\u001b[0;34m[\u001b[0m\u001b[0mdataLanguage\u001b[0m\u001b[0;34m[\u001b[0m\u001b[0;34m'Lib'\u001b[0m\u001b[0;34m]\u001b[0m \u001b[0;34m==\u001b[0m \u001b[0mterm\u001b[0m\u001b[0;34m[\u001b[0m\u001b[0;36m0\u001b[0m\u001b[0;34m]\u001b[0m\u001b[0;34m,\u001b[0m \u001b[0;34m'NewCommers'\u001b[0m\u001b[0;34m]\u001b[0m\u001b[0;34m)\u001b[0m\u001b[0;34m)\u001b[0m\u001b[0;34m\u001b[0m\u001b[0;34m\u001b[0m\u001b[0m\n\u001b[0;32m----> 9\u001b[0;31m     \u001b[0mprint\u001b[0m\u001b[0;34m(\u001b[0m\u001b[0;34m'\\tMaior qtd de perguntas feitas por um novato: '\u001b[0m\u001b[0;34m,\u001b[0m \u001b[0mmax\u001b[0m\u001b[0;34m(\u001b[0m\u001b[0mdataNewerRepeat\u001b[0m\u001b[0;34m.\u001b[0m\u001b[0mloc\u001b[0m\u001b[0;34m[\u001b[0m\u001b[0mdataNewerRepeat\u001b[0m\u001b[0;34m[\u001b[0m\u001b[0;34m'Lib'\u001b[0m\u001b[0;34m]\u001b[0m \u001b[0;34m==\u001b[0m \u001b[0mterm\u001b[0m\u001b[0;34m[\u001b[0m\u001b[0;36m0\u001b[0m\u001b[0;34m]\u001b[0m\u001b[0;34m,\u001b[0m \u001b[0;34m'Repeat'\u001b[0m\u001b[0;34m]\u001b[0m\u001b[0;34m)\u001b[0m\u001b[0;34m,\u001b[0m \u001b[0;34m'\\n'\u001b[0m\u001b[0;34m)\u001b[0m\u001b[0;34m\u001b[0m\u001b[0;34m\u001b[0m\u001b[0m\n\u001b[0m\u001b[1;32m     10\u001b[0m \u001b[0;34m\u001b[0m\u001b[0m\n\u001b[1;32m     11\u001b[0m     \u001b[0mresultRepeat\u001b[0m\u001b[0;34m.\u001b[0m\u001b[0mappend\u001b[0m\u001b[0;34m(\u001b[0m\u001b[0mmax\u001b[0m\u001b[0;34m(\u001b[0m\u001b[0mdataNewerRepeat\u001b[0m\u001b[0;34m.\u001b[0m\u001b[0mloc\u001b[0m\u001b[0;34m[\u001b[0m\u001b[0mdataNewerRepeat\u001b[0m\u001b[0;34m[\u001b[0m\u001b[0;34m'Lib'\u001b[0m\u001b[0;34m]\u001b[0m \u001b[0;34m==\u001b[0m \u001b[0mterm\u001b[0m\u001b[0;34m[\u001b[0m\u001b[0;36m0\u001b[0m\u001b[0;34m]\u001b[0m\u001b[0;34m,\u001b[0m \u001b[0;34m'Repeat'\u001b[0m\u001b[0;34m]\u001b[0m\u001b[0;34m)\u001b[0m\u001b[0;34m)\u001b[0m\u001b[0;34m\u001b[0m\u001b[0;34m\u001b[0m\u001b[0m\n",
      "\u001b[0;31mValueError\u001b[0m: max() arg is an empty sequence"
     ]
    }
   ],
   "source": [
    "resultRepeat = []\n",
    "resultNewers = []\n",
    "labelRepeat = []\n",
    "\n",
    "for term in libTerms:\n",
    "    print('Lib', term[0])\n",
    "    print('\\tQtd total de novatos: ', dataLanguage.loc[dataLanguage['Lib'] == term[0], 'NewCommers'].sum())\n",
    "    print('\\tQtd max de novatos em um mês: ', max(dataLanguage.loc[dataLanguage['Lib'] == term[0], 'NewCommers']))\n",
    "    print('\\tMaior qtd de perguntas feitas por um novato: ', max(dataNewerRepeat.loc[dataNewerRepeat['Lib'] == term[0], 'Repeat']), '\\n')\n",
    "    \n",
    "    resultRepeat.append(max(dataNewerRepeat.loc[dataNewerRepeat['Lib'] == term[0], 'Repeat']))\n",
    "    resultNewers.append(dataLanguage.loc[dataLanguage['Lib'] == term[0], 'NewCommers'].sum())\n",
    "    labelRepeat.append(term[0])"
   ]
  },
  {
   "cell_type": "code",
   "execution_count": null,
   "metadata": {},
   "outputs": [],
   "source": [
    "a = []\n",
    "for idx in range(len(labelRepeat)):\n",
    "    a.append([labelRepeat[idx], resultRepeat[idx], resultNewers[idx]])\n",
    "\n",
    "dataResult = pd.DataFrame(a, columns=['lib', 'qtd_max_ptgn', 'qtd_max_newers'])\n",
    "\n",
    "dataResult"
   ]
  },
  {
   "cell_type": "code",
   "execution_count": null,
   "metadata": {},
   "outputs": [],
   "source": [
    "dataResult = dataResult.sort_values(by=['qtd_max_ptgn'])\n",
    "\n",
    "fig, ax = plt.subplots()\n",
    "\n",
    "fig.set_size_inches(14, 6)\n",
    "fig.savefig('./result/{}/1. qtd_max.png'.format(prefix), dpi=100)\n",
    "\n",
    "y_pos = np.arange(len(libTerms))\n",
    "\n",
    "ax.barh(y_pos, dataResult['qtd_max_ptgn'].values.tolist(), align='center')\n",
    "ax.set_yticks(y_pos, labels=dataResult['lib'].values.tolist())\n",
    "ax.invert_yaxis()\n",
    "ax.set_title('Quantidade máxima de perguntas de um novato para as libs')\n",
    "ax.set_xlabel('Quantidade máxima de perguntas')\n",
    "\n",
    "plt.show()"
   ]
  },
  {
   "cell_type": "code",
   "execution_count": null,
   "metadata": {},
   "outputs": [],
   "source": [
    "dataResult = dataResult.sort_values(by=['qtd_max_newers'])\n",
    "\n",
    "fig, ax = plt.subplots()\n",
    "\n",
    "fig.set_size_inches(14, 6)\n",
    "fig.savefig('./result/{}/2. qtd_total.png'.format(prefix), dpi=100)\n",
    "\n",
    "y_pos = np.arange(len(libTerms))\n",
    "\n",
    "ax.barh(y_pos, dataResult['qtd_max_newers'].values.tolist(), align='center')\n",
    "ax.set_yticks(y_pos, labels=dataResult['lib'].values.tolist())\n",
    "ax.invert_yaxis()\n",
    "ax.set_title('Quantidade total de novatos de um novato para as libs')\n",
    "ax.set_xlabel('Quantidade total de novatos')\n",
    "\n",
    "plt.show()"
   ]
  }
 ],
 "metadata": {
  "interpreter": {
   "hash": "a01cbe3509f40fe8fbb70f6e35a414a4aeac5b623ad71bdf179810de598dc153"
  },
  "kernelspec": {
   "display_name": "Python 3",
   "language": "python",
   "name": "python3"
  },
  "language_info": {
   "codemirror_mode": {
    "name": "ipython",
    "version": 3
   },
   "file_extension": ".py",
   "mimetype": "text/x-python",
   "name": "python",
   "nbconvert_exporter": "python",
   "pygments_lexer": "ipython3",
   "version": "3.9.2"
  }
 },
 "nbformat": 4,
 "nbformat_minor": 2
}
