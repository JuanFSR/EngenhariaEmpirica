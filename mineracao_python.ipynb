{
 "cells": [
  {
   "cell_type": "code",
   "execution_count": 2,
   "metadata": {},
   "outputs": [],
   "source": [
    "import numpy as np\n",
    "import pandas as pd\n",
    "import scripts as sc\n",
    "import matplotlib.pyplot as plt\n",
    "from matplotlib.pyplot import figure\n",
    "\n",
    "prefix = 'python'\n",
    "\n",
    "pd.set_option('display.max_rows', 500)"
   ]
  },
  {
   "cell_type": "markdown",
   "metadata": {},
   "source": [
    "## Abertura dos arquivos"
   ]
  },
  {
   "cell_type": "code",
   "execution_count": 3,
   "metadata": {},
   "outputs": [
    {
     "data": {
      "text/plain": [
       "(987122, 607282, 1885078)"
      ]
     },
     "execution_count": 3,
     "metadata": {},
     "output_type": "execute_result"
    }
   ],
   "source": [
    "dataAnswers = pd.read_csv('data/{}/Answers.csv'.format(prefix), encoding='latin-1')\n",
    "dataQuestions = pd.read_csv('data/{}/Questions.csv'.format(prefix), encoding='latin-1')\n",
    "dataTags = pd.read_csv('data/{}/Tags.csv'.format(prefix))\n",
    "\n",
    "len(dataAnswers), len(dataQuestions), len(dataTags)"
   ]
  },
  {
   "cell_type": "markdown",
   "metadata": {},
   "source": [
    "## Remover todos os valores nulos do conjunto de dados"
   ]
  },
  {
   "cell_type": "code",
   "execution_count": 4,
   "metadata": {},
   "outputs": [
    {
     "data": {
      "text/plain": [
       "(981755, 601070, 1884635)"
      ]
     },
     "execution_count": 4,
     "metadata": {},
     "output_type": "execute_result"
    }
   ],
   "source": [
    "dataAnswers = dataAnswers.dropna()\n",
    "dataQuestions = dataQuestions.dropna()\n",
    "dataTags = dataTags.dropna()\n",
    "\n",
    "len(dataAnswers), len(dataQuestions), len(dataTags)"
   ]
  },
  {
   "cell_type": "markdown",
   "metadata": {},
   "source": [
    "## Informações sobre os conjuntos de dados"
   ]
  },
  {
   "cell_type": "code",
   "execution_count": 5,
   "metadata": {},
   "outputs": [
    {
     "name": "stdout",
     "output_type": "stream",
     "text": [
      "<class 'pandas.core.frame.DataFrame'>\n",
      "Int64Index: 981755 entries, 0 to 987121\n",
      "Data columns (total 6 columns):\n",
      " #   Column        Non-Null Count   Dtype  \n",
      "---  ------        --------------   -----  \n",
      " 0   Id            981755 non-null  int64  \n",
      " 1   OwnerUserId   981755 non-null  float64\n",
      " 2   CreationDate  981755 non-null  object \n",
      " 3   ParentId      981755 non-null  int64  \n",
      " 4   Score         981755 non-null  int64  \n",
      " 5   Body          981755 non-null  object \n",
      "dtypes: float64(1), int64(3), object(2)\n",
      "memory usage: 52.4+ MB\n",
      "<class 'pandas.core.frame.DataFrame'>\n",
      "Int64Index: 601070 entries, 0 to 607281\n",
      "Data columns (total 6 columns):\n",
      " #   Column        Non-Null Count   Dtype  \n",
      "---  ------        --------------   -----  \n",
      " 0   Id            601070 non-null  int64  \n",
      " 1   OwnerUserId   601070 non-null  float64\n",
      " 2   CreationDate  601070 non-null  object \n",
      " 3   Score         601070 non-null  int64  \n",
      " 4   Title         601070 non-null  object \n",
      " 5   Body          601070 non-null  object \n",
      "dtypes: float64(1), int64(2), object(3)\n",
      "memory usage: 32.1+ MB\n",
      "<class 'pandas.core.frame.DataFrame'>\n",
      "Int64Index: 1884635 entries, 0 to 1885077\n",
      "Data columns (total 2 columns):\n",
      " #   Column  Dtype \n",
      "---  ------  ----- \n",
      " 0   Id      int64 \n",
      " 1   Tag     object\n",
      "dtypes: int64(1), object(1)\n",
      "memory usage: 43.1+ MB\n"
     ]
    },
    {
     "data": {
      "text/plain": [
       "(None, None, None)"
      ]
     },
     "execution_count": 5,
     "metadata": {},
     "output_type": "execute_result"
    }
   ],
   "source": [
    "dataAnswers.info(), dataQuestions.info(), dataTags.info()"
   ]
  },
  {
   "cell_type": "markdown",
   "metadata": {},
   "source": [
    "## Adição das colunas: ano, mes e dia"
   ]
  },
  {
   "cell_type": "code",
   "execution_count": 6,
   "metadata": {},
   "outputs": [],
   "source": [
    "dateQuestion = sc.getDateFormat(dataQuestions['CreationDate'].values)\n",
    "dateAnswer = sc.getDateFormat(dataAnswers['CreationDate'].values)\n",
    "\n",
    "dataQuestions['ano'] = dateQuestion[0][0][0]\n",
    "dataQuestions['mes'] = dateQuestion[0][0][1]\n",
    "dataQuestions['dia'] = dateQuestion[0][0][2]\n",
    "\n",
    "dataAnswers['ano'] = dateAnswer[0][0][0]\n",
    "dataAnswers['mes'] = dateAnswer[0][0][1]\n",
    "dataAnswers['dia'] = dateAnswer[0][0][2]"
   ]
  },
  {
   "cell_type": "markdown",
   "metadata": {},
   "source": [
    "## Tamanho dos conjuntos por ano"
   ]
  },
  {
   "cell_type": "code",
   "execution_count": 7,
   "metadata": {},
   "outputs": [
    {
     "name": "stdout",
     "output_type": "stream",
     "text": [
      "\t\tQuestões:\t\tPerguntas:\n",
      "ano: 2008\ttamanho: 1824\t\ttamanho: 6847\n",
      "ano: 2009\ttamanho: 11461\t\ttamanho: 35954\n",
      "ano: 2010\ttamanho: 26047\t\ttamanho: 60370\n",
      "ano: 2011\ttamanho: 40391\t\ttamanho: 83470\n",
      "ano: 2012\ttamanho: 60662\t\ttamanho: 113695\n",
      "ano: 2013\ttamanho: 89375\t\ttamanho: 149872\n",
      "ano: 2014\ttamanho: 109148\t\ttamanho: 164860\n",
      "ano: 2015\ttamanho: 132161\t\ttamanho: 193869\n",
      "ano: 2016\ttamanho: 130001\t\ttamanho: 172818\n"
     ]
    }
   ],
   "source": [
    "print('\\t\\tQuestões:\\t\\tPerguntas:')\n",
    "for ano in range(2008, 2016+1):\n",
    "    print('ano: {}\\ttamanho: {}\\t\\ttamanho: {}'.format(ano, len(dataQuestions.loc[(dataQuestions['ano'] == ano)]), len(dataAnswers.loc[(dataAnswers['ano'] == ano)])))"
   ]
  },
  {
   "cell_type": "markdown",
   "metadata": {},
   "source": [
    "## Total de questões para cada ano"
   ]
  },
  {
   "cell_type": "code",
   "execution_count": 8,
   "metadata": {},
   "outputs": [
    {
     "data": {
      "text/plain": [
       "2015    132161\n",
       "2016    130001\n",
       "2014    109148\n",
       "2013     89375\n",
       "2012     60662\n",
       "2011     40391\n",
       "2010     26047\n",
       "2009     11461\n",
       "2008      1824\n",
       "Name: ano, dtype: int64"
      ]
     },
     "execution_count": 8,
     "metadata": {},
     "output_type": "execute_result"
    }
   ],
   "source": [
    "dataQuestions['ano'].value_counts()"
   ]
  },
  {
   "cell_type": "markdown",
   "metadata": {},
   "source": [
    "## Estamos considerando que um usuário não novato (usuario veterano), os usuários do ano de 2008"
   ]
  },
  {
   "cell_type": "code",
   "execution_count": 9,
   "metadata": {},
   "outputs": [
    {
     "data": {
      "text/plain": [
       "853"
      ]
     },
     "execution_count": 9,
     "metadata": {},
     "output_type": "execute_result"
    }
   ],
   "source": [
    "veterans = dataQuestions.loc[dataQuestions['ano'] == 2008, 'OwnerUserId'].unique().tolist()\n",
    "\n",
    "len(veterans)"
   ]
  },
  {
   "cell_type": "code",
   "execution_count": 10,
   "metadata": {},
   "outputs": [
    {
     "data": {
      "text/plain": [
       "601070"
      ]
     },
     "execution_count": 10,
     "metadata": {},
     "output_type": "execute_result"
    }
   ],
   "source": [
    "dropVeteran = False\n",
    "\n",
    "if dropVeteran:\n",
    "    for idVeteran in dataQuestions.loc[dataQuestions['ano'] == 2008, 'OwnerUserId'].unique().tolist():\n",
    "        \n",
    "        for idx in dataQuestions.loc[dataQuestions['OwnerUserId'] == idVeteran].index:\n",
    "            dataQuestions = dataQuestions.drop(index=idx)\n",
    "\n",
    "len(dataQuestions)"
   ]
  },
  {
   "cell_type": "markdown",
   "metadata": {},
   "source": [
    "## Total de novatos nos anos"
   ]
  },
  {
   "cell_type": "code",
   "execution_count": 11,
   "metadata": {},
   "outputs": [],
   "source": [
    "dataQuestions['Body'] = dataQuestions['Body'].str.lower()"
   ]
  },
  {
   "cell_type": "code",
   "execution_count": 12,
   "metadata": {},
   "outputs": [],
   "source": [
    "data = []\n",
    "repeatNewer = []\n",
    "libTerms = [\n",
    "    ['sklearn', 'scikit-learn', 'scikits learn'], \n",
    "    ['matplotlib'], \n",
    "    ['pandas'],\n",
    "    ['numpy'],\n",
    "    ['flasky'],\n",
    "    ['NuPIC'],\n",
    "    ['Ramp'],\n",
    "    ['SymPy'],\n",
    "    ['Seaborn'],\n",
    "    ['BeautifulSoup'],\n",
    "    ['Pyglet'],\n",
    "    ['Scrapy'],\n",
    "    ['PyGame'],\n",
    "    ['Python Twisted'],\n",
    "    ['Pillow'],\n",
    "    ['TensorFlow', 'Tensor Flow'],\n",
    "    ['SciPy', 'Sci py'],\n",
    "    ['keras'],\n",
    "    ['pickle'],\n",
    "    ['math'],\n",
    "    ['random'],\n",
    "    ['socket'],\n",
    "    ['sys'],\n",
    "    ['venv'],\n",
    "]\n",
    "\n",
    "for libs in libTerms:\n",
    "    dataTopic = []\n",
    "    newers = {}\n",
    "    \n",
    "    for lib in libs:\n",
    "        dataQuestions['lib'] = dataQuestions['Body'].map(lambda val: val.count(lib.lower())>0)\n",
    "        \n",
    "        if len(dataTopic) > 1:\n",
    "            dataTopic.loc[dataTopic['lib'] == False, 'lib'] = dataQuestions.loc[dataQuestions['lib'] == True]\n",
    "        else:\n",
    "            dataTopic = dataQuestions.loc[dataQuestions['lib'] == True]\n",
    "\n",
    "    for ano in range(min(dataQuestions['ano'])+1, max(dataQuestions['ano'])+1):\n",
    "        dataAno = dataTopic.loc[dataTopic['ano'] == ano]\n",
    "\n",
    "        if len(dataAno) < 1:\n",
    "\n",
    "            for mes in range(1, 13):\n",
    "                data.append([prefix, libs[0], ano, mes, 0])\n",
    "        \n",
    "        else:\n",
    "\n",
    "            for mes in range(min(dataQuestions['mes']), max(dataQuestions['mes'])+1):\n",
    "                dataMes = dataAno.loc[dataAno['mes'] == mes]\n",
    "                qtdNewComers = 0\n",
    "\n",
    "                if len(dataMes) < 1:\n",
    "                    data.append([prefix, libs[0], ano, mes, qtdNewComers])\n",
    "                \n",
    "                else:\n",
    "                    for question in dataMes.values:\n",
    "                        \n",
    "                        if question[1] not in veterans:\n",
    "                            qtdNewComers += 1\n",
    "\n",
    "                            if question[1] not in newers:\n",
    "                                newers[question[1]] = 1\n",
    "                            else:\n",
    "                                newers[question[1]] += 1\n",
    "                        \n",
    "                    data.append([prefix, libs[0], ano, mes, qtdNewComers])\n",
    "\n",
    "    for newer in newers:\n",
    "        repeatNewer.append([prefix, libs[0], newer, newers[newer]])\n",
    "\n",
    "dataLanguage = pd.DataFrame(data, columns=['Language', 'Lib', 'Year', 'Month', 'NewCommers'])\n",
    "dataNewerRepeat = pd.DataFrame(repeatNewer, columns=['Language', 'Lib', 'Newer', 'Repeat'])"
   ]
  },
  {
   "cell_type": "code",
   "execution_count": 13,
   "metadata": {},
   "outputs": [
    {
     "name": "stdout",
     "output_type": "stream",
     "text": [
      "Lib sklearn\n",
      "\tQtd total de novatos:  3432\n",
      "\tQtd max de novatos em um mês:  170\n",
      "\tMaior qtd de perguntas feitas por um novato:  21 \n",
      "\n",
      "Lib matplotlib\n",
      "\tQtd total de novatos:  16923\n",
      "\tQtd max de novatos em um mês:  546\n",
      "\tMaior qtd de perguntas feitas por um novato:  70 \n",
      "\n",
      "Lib pandas\n",
      "\tQtd total de novatos:  21605\n",
      "\tQtd max de novatos em um mês:  988\n",
      "\tMaior qtd de perguntas feitas por um novato:  125 \n",
      "\n",
      "Lib numpy\n",
      "\tQtd total de novatos:  37691\n",
      "\tQtd max de novatos em um mês:  1189\n",
      "\tMaior qtd de perguntas feitas por um novato:  98 \n",
      "\n",
      "Lib flasky\n",
      "\tQtd total de novatos:  37\n",
      "\tQtd max de novatos em um mês:  4\n",
      "\tMaior qtd de perguntas feitas por um novato:  2 \n",
      "\n",
      "Lib NuPIC\n",
      "\tQtd total de novatos:  9\n",
      "\tQtd max de novatos em um mês:  2\n",
      "\tMaior qtd de perguntas feitas por um novato:  2 \n",
      "\n",
      "Lib Ramp\n",
      "\tQtd total de novatos:  295\n",
      "\tQtd max de novatos em um mês:  13\n",
      "\tMaior qtd de perguntas feitas por um novato:  5 \n",
      "\n",
      "Lib SymPy\n",
      "\tQtd total de novatos:  1217\n",
      "\tQtd max de novatos em um mês:  54\n",
      "\tMaior qtd de perguntas feitas por um novato:  12 \n",
      "\n",
      "Lib Seaborn\n",
      "\tQtd total de novatos:  779\n",
      "\tQtd max de novatos em um mês:  52\n",
      "\tMaior qtd de perguntas feitas por um novato:  14 \n",
      "\n",
      "Lib BeautifulSoup\n",
      "\tQtd total de novatos:  7674\n",
      "\tQtd max de novatos em um mês:  226\n",
      "\tMaior qtd de perguntas feitas por um novato:  32 \n",
      "\n",
      "Lib Pyglet\n",
      "\tQtd total de novatos:  445\n",
      "\tQtd max de novatos em um mês:  15\n",
      "\tMaior qtd de perguntas feitas por um novato:  12 \n",
      "\n",
      "Lib Scrapy\n",
      "\tQtd total de novatos:  4378\n",
      "\tQtd max de novatos em um mês:  148\n",
      "\tMaior qtd de perguntas feitas por um novato:  56 \n",
      "\n",
      "Lib PyGame\n",
      "\tQtd total de novatos:  5724\n",
      "\tQtd max de novatos em um mês:  151\n",
      "\tMaior qtd de perguntas feitas por um novato:  30 \n",
      "\n",
      "Lib Python Twisted\n",
      "\tQtd total de novatos:  83\n",
      "\tQtd max de novatos em um mês:  6\n",
      "\tMaior qtd de perguntas feitas por um novato:  7 \n",
      "\n",
      "Lib Pillow\n",
      "\tQtd total de novatos:  918\n",
      "\tQtd max de novatos em um mês:  38\n",
      "\tMaior qtd de perguntas feitas por um novato:  7 \n",
      "\n",
      "Lib TensorFlow\n",
      "\tQtd total de novatos:  1465\n",
      "\tQtd max de novatos em um mês:  192\n",
      "\tMaior qtd de perguntas feitas por um novato:  24 \n",
      "\n",
      "Lib SciPy\n",
      "\tQtd total de novatos:  10467\n",
      "\tQtd max de novatos em um mês:  306\n",
      "\tMaior qtd de perguntas feitas por um novato:  54 \n",
      "\n",
      "Lib keras\n",
      "\tQtd total de novatos:  361\n",
      "\tQtd max de novatos em um mês:  44\n",
      "\tMaior qtd de perguntas feitas por um novato:  12 \n",
      "\n",
      "Lib pickle\n",
      "\tQtd total de novatos:  4414\n",
      "\tQtd max de novatos em um mês:  121\n",
      "\tMaior qtd de perguntas feitas por um novato:  14 \n",
      "\n",
      "Lib math\n",
      "\tQtd total de novatos:  11108\n",
      "\tQtd max de novatos em um mês:  298\n",
      "\tMaior qtd de perguntas feitas por um novato:  18 \n",
      "\n",
      "Lib random\n",
      "\tQtd total de novatos:  26571\n",
      "\tQtd max de novatos em um mês:  783\n",
      "\tMaior qtd de perguntas feitas por um novato:  63 \n",
      "\n",
      "Lib socket\n",
      "\tQtd total de novatos:  13693\n",
      "\tQtd max de novatos em um mês:  359\n",
      "\tMaior qtd de perguntas feitas por um novato:  17 \n",
      "\n",
      "Lib sys\n",
      "\tQtd total de novatos:  63231\n",
      "\tQtd max de novatos em um mês:  1449\n",
      "\tMaior qtd de perguntas feitas por um novato:  147 \n",
      "\n",
      "Lib venv\n",
      "\tQtd total de novatos:  2154\n",
      "\tQtd max de novatos em um mês:  90\n",
      "\tMaior qtd de perguntas feitas por um novato:  14 \n",
      "\n"
     ]
    }
   ],
   "source": [
    "resultRepeat = []\n",
    "resultNewers = []\n",
    "labelRepeat = []\n",
    "\n",
    "for term in libTerms:\n",
    "    print('Lib', term[0])\n",
    "    print('\\tQtd total de novatos: ', dataLanguage.loc[dataLanguage['Lib'] == term[0], 'NewCommers'].sum())\n",
    "    print('\\tQtd max de novatos em um mês: ', max(dataLanguage.loc[dataLanguage['Lib'] == term[0], 'NewCommers']))\n",
    "    print('\\tMaior qtd de perguntas feitas por um novato: ', max(dataNewerRepeat.loc[dataNewerRepeat['Lib'] == term[0], 'Repeat']), '\\n')\n",
    "    \n",
    "    resultRepeat.append(max(dataNewerRepeat.loc[dataNewerRepeat['Lib'] == term[0], 'Repeat']))\n",
    "    resultNewers.append(dataLanguage.loc[dataLanguage['Lib'] == term[0], 'NewCommers'].sum())\n",
    "    labelRepeat.append(term[0])"
   ]
  },
  {
   "cell_type": "code",
   "execution_count": 19,
   "metadata": {},
   "outputs": [
    {
     "data": {
      "text/html": [
       "<div>\n",
       "<style scoped>\n",
       "    .dataframe tbody tr th:only-of-type {\n",
       "        vertical-align: middle;\n",
       "    }\n",
       "\n",
       "    .dataframe tbody tr th {\n",
       "        vertical-align: top;\n",
       "    }\n",
       "\n",
       "    .dataframe thead th {\n",
       "        text-align: right;\n",
       "    }\n",
       "</style>\n",
       "<table border=\"1\" class=\"dataframe\">\n",
       "  <thead>\n",
       "    <tr style=\"text-align: right;\">\n",
       "      <th></th>\n",
       "      <th>lib</th>\n",
       "      <th>qtd_max_ptgn</th>\n",
       "      <th>qtd_max_newers</th>\n",
       "    </tr>\n",
       "  </thead>\n",
       "  <tbody>\n",
       "    <tr>\n",
       "      <th>0</th>\n",
       "      <td>sklearn</td>\n",
       "      <td>21</td>\n",
       "      <td>3432</td>\n",
       "    </tr>\n",
       "    <tr>\n",
       "      <th>1</th>\n",
       "      <td>matplotlib</td>\n",
       "      <td>70</td>\n",
       "      <td>16923</td>\n",
       "    </tr>\n",
       "    <tr>\n",
       "      <th>2</th>\n",
       "      <td>pandas</td>\n",
       "      <td>125</td>\n",
       "      <td>21605</td>\n",
       "    </tr>\n",
       "    <tr>\n",
       "      <th>3</th>\n",
       "      <td>numpy</td>\n",
       "      <td>98</td>\n",
       "      <td>37691</td>\n",
       "    </tr>\n",
       "    <tr>\n",
       "      <th>4</th>\n",
       "      <td>flasky</td>\n",
       "      <td>2</td>\n",
       "      <td>37</td>\n",
       "    </tr>\n",
       "    <tr>\n",
       "      <th>5</th>\n",
       "      <td>NuPIC</td>\n",
       "      <td>2</td>\n",
       "      <td>9</td>\n",
       "    </tr>\n",
       "    <tr>\n",
       "      <th>6</th>\n",
       "      <td>Ramp</td>\n",
       "      <td>5</td>\n",
       "      <td>295</td>\n",
       "    </tr>\n",
       "    <tr>\n",
       "      <th>7</th>\n",
       "      <td>SymPy</td>\n",
       "      <td>12</td>\n",
       "      <td>1217</td>\n",
       "    </tr>\n",
       "    <tr>\n",
       "      <th>8</th>\n",
       "      <td>Seaborn</td>\n",
       "      <td>14</td>\n",
       "      <td>779</td>\n",
       "    </tr>\n",
       "    <tr>\n",
       "      <th>9</th>\n",
       "      <td>BeautifulSoup</td>\n",
       "      <td>32</td>\n",
       "      <td>7674</td>\n",
       "    </tr>\n",
       "    <tr>\n",
       "      <th>10</th>\n",
       "      <td>Pyglet</td>\n",
       "      <td>12</td>\n",
       "      <td>445</td>\n",
       "    </tr>\n",
       "    <tr>\n",
       "      <th>11</th>\n",
       "      <td>Scrapy</td>\n",
       "      <td>56</td>\n",
       "      <td>4378</td>\n",
       "    </tr>\n",
       "    <tr>\n",
       "      <th>12</th>\n",
       "      <td>PyGame</td>\n",
       "      <td>30</td>\n",
       "      <td>5724</td>\n",
       "    </tr>\n",
       "    <tr>\n",
       "      <th>13</th>\n",
       "      <td>Python Twisted</td>\n",
       "      <td>7</td>\n",
       "      <td>83</td>\n",
       "    </tr>\n",
       "    <tr>\n",
       "      <th>14</th>\n",
       "      <td>Pillow</td>\n",
       "      <td>7</td>\n",
       "      <td>918</td>\n",
       "    </tr>\n",
       "    <tr>\n",
       "      <th>15</th>\n",
       "      <td>TensorFlow</td>\n",
       "      <td>24</td>\n",
       "      <td>1465</td>\n",
       "    </tr>\n",
       "    <tr>\n",
       "      <th>16</th>\n",
       "      <td>SciPy</td>\n",
       "      <td>54</td>\n",
       "      <td>10467</td>\n",
       "    </tr>\n",
       "    <tr>\n",
       "      <th>17</th>\n",
       "      <td>keras</td>\n",
       "      <td>12</td>\n",
       "      <td>361</td>\n",
       "    </tr>\n",
       "    <tr>\n",
       "      <th>18</th>\n",
       "      <td>pickle</td>\n",
       "      <td>14</td>\n",
       "      <td>4414</td>\n",
       "    </tr>\n",
       "    <tr>\n",
       "      <th>19</th>\n",
       "      <td>math</td>\n",
       "      <td>18</td>\n",
       "      <td>11108</td>\n",
       "    </tr>\n",
       "    <tr>\n",
       "      <th>20</th>\n",
       "      <td>random</td>\n",
       "      <td>63</td>\n",
       "      <td>26571</td>\n",
       "    </tr>\n",
       "    <tr>\n",
       "      <th>21</th>\n",
       "      <td>socket</td>\n",
       "      <td>17</td>\n",
       "      <td>13693</td>\n",
       "    </tr>\n",
       "    <tr>\n",
       "      <th>22</th>\n",
       "      <td>sys</td>\n",
       "      <td>147</td>\n",
       "      <td>63231</td>\n",
       "    </tr>\n",
       "    <tr>\n",
       "      <th>23</th>\n",
       "      <td>venv</td>\n",
       "      <td>14</td>\n",
       "      <td>2154</td>\n",
       "    </tr>\n",
       "  </tbody>\n",
       "</table>\n",
       "</div>"
      ],
      "text/plain": [
       "               lib  qtd_max_ptgn  qtd_max_newers\n",
       "0          sklearn            21            3432\n",
       "1       matplotlib            70           16923\n",
       "2           pandas           125           21605\n",
       "3            numpy            98           37691\n",
       "4           flasky             2              37\n",
       "5            NuPIC             2               9\n",
       "6             Ramp             5             295\n",
       "7            SymPy            12            1217\n",
       "8          Seaborn            14             779\n",
       "9    BeautifulSoup            32            7674\n",
       "10          Pyglet            12             445\n",
       "11          Scrapy            56            4378\n",
       "12          PyGame            30            5724\n",
       "13  Python Twisted             7              83\n",
       "14          Pillow             7             918\n",
       "15      TensorFlow            24            1465\n",
       "16           SciPy            54           10467\n",
       "17           keras            12             361\n",
       "18          pickle            14            4414\n",
       "19            math            18           11108\n",
       "20          random            63           26571\n",
       "21          socket            17           13693\n",
       "22             sys           147           63231\n",
       "23            venv            14            2154"
      ]
     },
     "execution_count": 19,
     "metadata": {},
     "output_type": "execute_result"
    }
   ],
   "source": [
    "a = []\n",
    "for idx in range(len(labelRepeat)):\n",
    "    a.append([labelRepeat[idx], resultRepeat[idx], resultNewers[idx]])\n",
    "\n",
    "dataResult = pd.DataFrame(a, columns=['lib', 'qtd_max_ptgn', 'qtd_max_newers'])\n",
    "\n",
    "dataResult"
   ]
  },
  {
   "cell_type": "code",
   "execution_count": 20,
   "metadata": {},
   "outputs": [
    {
     "data": {
      "image/png": "[encoded data removed]",
      "text/plain": [
       "<Figure size 1008x432 with 1 Axes>"
      ]
     },
     "metadata": {
      "needs_background": "light"
     },
     "output_type": "display_data"
    }
   ],
   "source": [
    "dataResult = dataResult.sort_values(by=['qtd_max_ptgn'])\n",
    "\n",
    "fig, ax = plt.subplots()\n",
    "\n",
    "fig.set_size_inches(14, 6)\n",
    "fig.savefig('./result/{}/1. qtd_max.png'.format(prefix), dpi=100)\n",
    "\n",
    "y_pos = np.arange(len(libTerms))\n",
    "\n",
    "ax.barh(y_pos, dataResult['qtd_max_ptgn'].values.tolist(), align='center')\n",
    "ax.set_yticks(y_pos, labels=dataResult['lib'].values.tolist())\n",
    "ax.invert_yaxis()\n",
    "ax.set_title('Quantidade máxima de perguntas de um novato para as libs')\n",
    "ax.set_xlabel('Quantidade máxima de perguntas')\n",
    "\n",
    "plt.show()"
   ]
  },
  {
   "cell_type": "code",
   "execution_count": 16,
   "metadata": {},
   "outputs": [
    {
     "data": {
      "image/png": "[encoded data removed]",
      "text/plain": [
       "<Figure size 1008x432 with 1 Axes>"
      ]
     },
     "metadata": {
      "needs_background": "light"
     },
     "output_type": "display_data"
    }
   ],
   "source": [
    "dataResult = dataResult.sort_values(by=['qtd_max_newers'])\n",
    "\n",
    "fig, ax = plt.subplots()\n",
    "\n",
    "fig.set_size_inches(14, 6)\n",
    "fig.savefig('./result/{}/2. qtd_total.png'.format(prefix), dpi=100)\n",
    "\n",
    "y_pos = np.arange(len(libTerms))\n",
    "\n",
    "ax.barh(y_pos, dataResult['qtd_max_newers'].values.tolist(), align='center')\n",
    "ax.set_yticks(y_pos, labels=dataResult['lib'].values.tolist())\n",
    "ax.invert_yaxis()\n",
    "ax.set_title('Quantidade total de novatos de um novato para as libs')\n",
    "ax.set_xlabel('Quantidade total de novatos')\n",
    "\n",
    "plt.show()"
   ]
  }
 ],
 "metadata": {
  "interpreter": {
   "hash": "a01cbe3509f40fe8fbb70f6e35a414a4aeac5b623ad71bdf179810de598dc153"
  },
  "kernelspec": {
   "display_name": "Python 3",
   "language": "python",
   "name": "python3"
  },
  "language_info": {
   "codemirror_mode": {
    "name": "ipython",
    "version": 3
   },
   "file_extension": ".py",
   "mimetype": "text/x-python",
   "name": "python",
   "nbconvert_exporter": "python",
   "pygments_lexer": "ipython3",
   "version": "3.9.2"
  }
 },
 "nbformat": 4,
 "nbformat_minor": 2
}
