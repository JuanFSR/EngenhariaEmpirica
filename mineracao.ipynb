{
 "cells": [
  {
   "cell_type": "code",
   "execution_count": 33,
   "metadata": {},
   "outputs": [],
   "source": [
    "import numpy as np\n",
    "import pandas as pd\n",
    "import scripts as sc\n",
    "\n",
    "prefix = 'python'\n",
    "# prefix = 'r'"
   ]
  },
  {
   "cell_type": "markdown",
   "metadata": {},
   "source": [
    "## Abertura dos arquivos"
   ]
  },
  {
   "cell_type": "code",
   "execution_count": 39,
   "metadata": {},
   "outputs": [
    {
     "data": {
      "text/plain": [
       "(987122, 607282, 1885078)"
      ]
     },
     "execution_count": 39,
     "metadata": {},
     "output_type": "execute_result"
    }
   ],
   "source": [
    "dataAnswers = pd.read_csv('data/{}/Answers.csv'.format(prefix), encoding='latin-1')\n",
    "dataQuestions = pd.read_csv('data/{}/Questions.csv'.format(prefix), encoding='latin-1')\n",
    "dataTags = pd.read_csv('data/{}/Tags.csv'.format(prefix))\n",
    "\n",
    "len(dataAnswers), len(dataQuestions), len(dataTags)"
   ]
  },
  {
   "cell_type": "markdown",
   "metadata": {},
   "source": [
    "## Remover todos os valores nulos do conjunto de dados"
   ]
  },
  {
   "cell_type": "code",
   "execution_count": 41,
   "metadata": {},
   "outputs": [
    {
     "data": {
      "text/plain": [
       "(981755, 601070, 1884635)"
      ]
     },
     "execution_count": 41,
     "metadata": {},
     "output_type": "execute_result"
    }
   ],
   "source": [
    "dataAnswers = dataAnswers.dropna()\n",
    "dataQuestions = dataQuestions.dropna()\n",
    "dataTags = dataTags.dropna()\n",
    "\n",
    "len(dataAnswers), len(dataQuestions), len(dataTags)"
   ]
  },
  {
   "cell_type": "markdown",
   "metadata": {},
   "source": [
    "## Informações sobre os conjuntos de dados"
   ]
  },
  {
   "cell_type": "code",
   "execution_count": 42,
   "metadata": {},
   "outputs": [
    {
     "name": "stdout",
     "output_type": "stream",
     "text": [
      "<class 'pandas.core.frame.DataFrame'>\n",
      "Int64Index: 981755 entries, 0 to 987121\n",
      "Data columns (total 6 columns):\n",
      " #   Column        Non-Null Count   Dtype  \n",
      "---  ------        --------------   -----  \n",
      " 0   Id            981755 non-null  int64  \n",
      " 1   OwnerUserId   981755 non-null  float64\n",
      " 2   CreationDate  981755 non-null  object \n",
      " 3   ParentId      981755 non-null  int64  \n",
      " 4   Score         981755 non-null  int64  \n",
      " 5   Body          981755 non-null  object \n",
      "dtypes: float64(1), int64(3), object(2)\n",
      "memory usage: 52.4+ MB\n",
      "<class 'pandas.core.frame.DataFrame'>\n",
      "Int64Index: 601070 entries, 0 to 607281\n",
      "Data columns (total 6 columns):\n",
      " #   Column        Non-Null Count   Dtype  \n",
      "---  ------        --------------   -----  \n",
      " 0   Id            601070 non-null  int64  \n",
      " 1   OwnerUserId   601070 non-null  float64\n",
      " 2   CreationDate  601070 non-null  object \n",
      " 3   Score         601070 non-null  int64  \n",
      " 4   Title         601070 non-null  object \n",
      " 5   Body          601070 non-null  object \n",
      "dtypes: float64(1), int64(2), object(3)\n",
      "memory usage: 32.1+ MB\n",
      "<class 'pandas.core.frame.DataFrame'>\n",
      "Int64Index: 1884635 entries, 0 to 1885077\n",
      "Data columns (total 2 columns):\n",
      " #   Column  Dtype \n",
      "---  ------  ----- \n",
      " 0   Id      int64 \n",
      " 1   Tag     object\n",
      "dtypes: int64(1), object(1)\n",
      "memory usage: 43.1+ MB\n"
     ]
    },
    {
     "data": {
      "text/plain": [
       "(None, None, None)"
      ]
     },
     "execution_count": 42,
     "metadata": {},
     "output_type": "execute_result"
    }
   ],
   "source": [
    "dataAnswers.info(), dataQuestions.info(), dataTags.info()"
   ]
  },
  {
   "cell_type": "markdown",
   "metadata": {},
   "source": [
    "## Adição das colunas: ano, mes e dia"
   ]
  },
  {
   "cell_type": "code",
   "execution_count": 43,
   "metadata": {},
   "outputs": [],
   "source": [
    "dateQuestion = sc.getDateFormat(dataQuestions['CreationDate'].values)\n",
    "dateAnswer = sc.getDateFormat(dataAnswers['CreationDate'].values)\n",
    "\n",
    "dataQuestions['ano'] = dateQuestion[0][0][0]\n",
    "dataQuestions['mes'] = dateQuestion[0][0][1]\n",
    "dataQuestions['dia'] = dateQuestion[0][0][2]\n",
    "\n",
    "dataAnswers['ano'] = dateAnswer[0][0][0]\n",
    "dataAnswers['mes'] = dateAnswer[0][0][1]\n",
    "dataAnswers['dia'] = dateAnswer[0][0][2]"
   ]
  },
  {
   "cell_type": "markdown",
   "metadata": {},
   "source": [
    "## Tamanho dos conjuntos por ano"
   ]
  },
  {
   "cell_type": "code",
   "execution_count": 44,
   "metadata": {},
   "outputs": [
    {
     "name": "stdout",
     "output_type": "stream",
     "text": [
      "\t\tQuestões:\t\tPerguntas:\n",
      "ano: 2008\ttamanho: 1824\t\ttamanho: 6847\n",
      "ano: 2009\ttamanho: 11461\t\ttamanho: 35954\n",
      "ano: 2010\ttamanho: 26047\t\ttamanho: 60370\n",
      "ano: 2011\ttamanho: 40391\t\ttamanho: 83470\n",
      "ano: 2012\ttamanho: 60662\t\ttamanho: 113695\n",
      "ano: 2013\ttamanho: 89375\t\ttamanho: 149872\n",
      "ano: 2014\ttamanho: 109148\t\ttamanho: 164860\n",
      "ano: 2015\ttamanho: 132161\t\ttamanho: 193869\n",
      "ano: 2016\ttamanho: 130001\t\ttamanho: 172818\n"
     ]
    }
   ],
   "source": [
    "print('\\t\\tQuestões:\\t\\tPerguntas:')\n",
    "for ano in range(2008, 2016+1):\n",
    "    print('ano: {}\\ttamanho: {}\\t\\ttamanho: {}'.format(ano, len(dataQuestions.loc[(dataQuestions['ano'] == ano)]), len(dataAnswers.loc[(dataAnswers['ano'] == ano)])))"
   ]
  },
  {
   "cell_type": "markdown",
   "metadata": {},
   "source": [
    "## Total de questões para cada ano"
   ]
  },
  {
   "cell_type": "code",
   "execution_count": 45,
   "metadata": {},
   "outputs": [
    {
     "data": {
      "text/plain": [
       "2015    132161\n",
       "2016    130001\n",
       "2014    109148\n",
       "2013     89375\n",
       "2012     60662\n",
       "2011     40391\n",
       "2010     26047\n",
       "2009     11461\n",
       "2008      1824\n",
       "Name: ano, dtype: int64"
      ]
     },
     "execution_count": 45,
     "metadata": {},
     "output_type": "execute_result"
    }
   ],
   "source": [
    "dataQuestions['ano'].value_counts()"
   ]
  },
  {
   "cell_type": "markdown",
   "metadata": {},
   "source": [
    "## Estamos considerando que um usuário não novato (usuario veterano), seja alguém que ja publicou alguma pergunta no mês de janeiro de um ano, e todos que publicaram em outro mês, será considerado novato"
   ]
  },
  {
   "cell_type": "code",
   "execution_count": 53,
   "metadata": {},
   "outputs": [],
   "source": [
    "veterans = []\n",
    "allIds = []\n",
    "\n",
    "for idx, ano in enumerate(dataQuestions['ano'].unique()):\n",
    "    veterans.append([])\n",
    "    for a in dataQuestions.loc[(dataQuestions['ano'] == ano) & (dataQuestions['mes'] == 1), 'OwnerUserId'].values:\n",
    "        if a not in allIds: \n",
    "            allIds.append(a)\n",
    "            veterans[idx].append(a)"
   ]
  },
  {
   "cell_type": "markdown",
   "metadata": {},
   "source": [
    "## Total de veteranos nos anos"
   ]
  },
  {
   "cell_type": "code",
   "execution_count": 55,
   "metadata": {},
   "outputs": [
    {
     "name": "stdout",
     "output_type": "stream",
     "text": [
      "Ano: 2008, Quantidade: 0\n",
      "Ano: 2009, Quantidade: 342\n",
      "Ano: 2010, Quantidade: 1037\n",
      "Ano: 2011, Quantidade: 1646\n",
      "Ano: 2012, Quantidade: 2371\n",
      "Ano: 2013, Quantidade: 3756\n",
      "Ano: 2014, Quantidade: 5375\n",
      "Ano: 2015, Quantidade: 5932\n",
      "Ano: 2016, Quantidade: 7934\n"
     ]
    }
   ],
   "source": [
    "for idx, ano in enumerate(dataQuestions['ano'].unique()):\n",
    "    print('Ano: {}, Quantidade: {}'.format(ano, len(veterans[idx])))"
   ]
  }
 ],
 "metadata": {
  "interpreter": {
   "hash": "a01cbe3509f40fe8fbb70f6e35a414a4aeac5b623ad71bdf179810de598dc153"
  },
  "kernelspec": {
   "display_name": "Python 3",
   "language": "python",
   "name": "python3"
  },
  "language_info": {
   "codemirror_mode": {
    "name": "ipython",
    "version": 3
   },
   "file_extension": ".py",
   "mimetype": "text/x-python",
   "name": "python",
   "nbconvert_exporter": "python",
   "pygments_lexer": "ipython3",
   "version": "3.9.2"
  }
 },
 "nbformat": 4,
 "nbformat_minor": 2
}
