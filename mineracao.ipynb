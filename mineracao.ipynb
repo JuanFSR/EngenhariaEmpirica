{
 "cells": [
  {
   "cell_type": "code",
   "execution_count": 33,
   "metadata": {},
   "outputs": [],
   "source": [
    "import pandas as pd\n",
    "\n",
    "prefix = 'python'\n",
    "# prefix = 'r'"
   ]
  },
  {
   "cell_type": "code",
   "execution_count": 34,
   "metadata": {},
   "outputs": [],
   "source": [
    "dataAnswers = pd.read_csv('data/{}/Answers.csv'.format(prefix), encoding='latin-1')\n",
    "dataQuestions = pd.read_csv('data/{}/Questions.csv'.format(prefix), encoding='latin-1')\n",
    "dataTags = pd.read_csv('data/{}/Tags.csv'.format(prefix))"
   ]
  },
  {
   "cell_type": "code",
   "execution_count": 35,
   "metadata": {},
   "outputs": [
    {
     "name": "stdout",
     "output_type": "stream",
     "text": [
      "<class 'pandas.core.frame.DataFrame'>\n",
      "RangeIndex: 250788 entries, 0 to 250787\n",
      "Data columns (total 7 columns):\n",
      " #   Column            Non-Null Count   Dtype  \n",
      "---  ------            --------------   -----  \n",
      " 0   Id                250788 non-null  int64  \n",
      " 1   OwnerUserId       250000 non-null  float64\n",
      " 2   CreationDate      250788 non-null  object \n",
      " 3   ParentId          250788 non-null  int64  \n",
      " 4   Score             250788 non-null  int64  \n",
      " 5   IsAcceptedAnswer  250788 non-null  bool   \n",
      " 6   Body              250788 non-null  object \n",
      "dtypes: bool(1), float64(1), int64(3), object(2)\n",
      "memory usage: 11.7+ MB\n"
     ]
    },
    {
     "data": {
      "text/plain": [
       "('2008-09-17T03:43:22Z', '2017-09-24T23:55:22Z')"
      ]
     },
     "execution_count": 35,
     "metadata": {},
     "output_type": "execute_result"
    }
   ],
   "source": [
    "dataAnswers.info()\n",
    "\n",
    "min(dataAnswers['CreationDate']), max(dataAnswers['CreationDate'])"
   ]
  },
  {
   "cell_type": "code",
   "execution_count": 36,
   "metadata": {},
   "outputs": [
    {
     "name": "stdout",
     "output_type": "stream",
     "text": [
      "<class 'pandas.core.frame.DataFrame'>\n",
      "RangeIndex: 189930 entries, 0 to 189929\n",
      "Data columns (total 6 columns):\n",
      " #   Column        Non-Null Count   Dtype  \n",
      "---  ------        --------------   -----  \n",
      " 0   Id            189930 non-null  int64  \n",
      " 1   OwnerUserId   188729 non-null  float64\n",
      " 2   CreationDate  189930 non-null  object \n",
      " 3   Score         189930 non-null  int64  \n",
      " 4   Title         189930 non-null  object \n",
      " 5   Body          189930 non-null  object \n",
      "dtypes: float64(1), int64(2), object(3)\n",
      "memory usage: 8.7+ MB\n"
     ]
    },
    {
     "data": {
      "text/plain": [
       "('2008-09-16T21:40:29Z', '2017-09-24T23:57:51Z')"
      ]
     },
     "execution_count": 36,
     "metadata": {},
     "output_type": "execute_result"
    }
   ],
   "source": [
    "dataQuestions.info()\n",
    "\n",
    "min(dataQuestions['CreationDate']), max(dataQuestions['CreationDate'])"
   ]
  },
  {
   "cell_type": "code",
   "execution_count": 37,
   "metadata": {},
   "outputs": [],
   "source": [
    "dataQuestions['query_column'] = dataQuestions['Body'].map(lambda val: val.count('sklearn')>0)"
   ]
  },
  {
   "cell_type": "code",
   "execution_count": 38,
   "metadata": {},
   "outputs": [
    {
     "data": {
      "text/plain": [
       "78"
      ]
     },
     "execution_count": 38,
     "metadata": {},
     "output_type": "execute_result"
    }
   ],
   "source": [
    "result = dataQuestions.loc[dataQuestions['query_column'] == True]\n",
    "len(result)"
   ]
  }
 ],
 "metadata": {
  "interpreter": {
   "hash": "a01cbe3509f40fe8fbb70f6e35a414a4aeac5b623ad71bdf179810de598dc153"
  },
  "kernelspec": {
   "display_name": "Python 3.9.7 64-bit",
   "language": "python",
   "name": "python3"
  },
  "language_info": {
   "codemirror_mode": {
    "name": "ipython",
    "version": 3
   },
   "file_extension": ".py",
   "mimetype": "text/x-python",
   "name": "python",
   "nbconvert_exporter": "python",
   "pygments_lexer": "ipython3",
   "version": "3.9.7"
  },
  "orig_nbformat": 4
 },
 "nbformat": 4,
 "nbformat_minor": 2
}
